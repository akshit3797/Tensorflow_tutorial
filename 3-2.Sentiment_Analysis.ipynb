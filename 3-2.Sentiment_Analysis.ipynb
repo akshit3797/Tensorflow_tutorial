{
 "cells": [
  {
   "cell_type": "code",
   "execution_count": 6,
   "metadata": {},
   "outputs": [],
   "source": [
    "import tensorflow as tf\n",
    "from tensorflow.keras import datasets, layers, models, preprocessing\n",
    "import tensorflow_datasets as tfds"
   ]
  },
  {
   "cell_type": "code",
   "execution_count": 7,
   "metadata": {},
   "outputs": [],
   "source": [
    "max_length = 200\n",
    "n_words = 10000\n",
    "dim_embedding  = 256\n",
    "epochs = 20\n",
    "batch_size = 256"
   ]
  },
  {
   "cell_type": "code",
   "execution_count": 11,
   "metadata": {},
   "outputs": [],
   "source": [
    "def load_data():\n",
    "    (X_train,y_train),(X_test, y_test) = datasets.imdb.load_data(num_words=n_words)\n",
    "    X_train = preprocessing.sequence.pad_sequences(X_train,maxlen=max_length)\n",
    "    X_test = preprocessing.sequence.pad_sequences(X_test,maxlen=max_length)\n",
    "    return (X_train, y_train), (X_test, y_test)"
   ]
  },
  {
   "cell_type": "code",
   "execution_count": 13,
   "metadata": {},
   "outputs": [],
   "source": [
    "def build_model():\n",
    "    model  = models.Sequential()\n",
    "    model.add(layers.Embedding(n_words,dim_embedding,input_length=max_length))\n",
    "    model.add(layers.Dropout(0.3))\n",
    "    model.add(layers.GlobalAveragePooling1D())\n",
    "    model.add(layers.Dense(128,activation='relu'))\n",
    "    model.add(layers.Dropout(0.5))\n",
    "    model.add(layers.Dense(1,activation='sigmoid'))\n",
    "    return model"
   ]
  },
  {
   "cell_type": "code",
   "execution_count": 14,
   "metadata": {},
   "outputs": [
    {
     "name": "stdout",
     "output_type": "stream",
     "text": [
      "Downloading data from https://storage.googleapis.com/tensorflow/tf-keras-datasets/imdb.npz\n",
      "17465344/17464789 [==============================] - 3s 0us/step\n"
     ]
    }
   ],
   "source": [
    "(X_train, y_train), (X_test, y_test) = load_data()\n",
    "model = build_model()"
   ]
  },
  {
   "cell_type": "code",
   "execution_count": 16,
   "metadata": {},
   "outputs": [
    {
     "name": "stdout",
     "output_type": "stream",
     "text": [
      "Model: \"sequential\"\n",
      "_________________________________________________________________\n",
      "Layer (type)                 Output Shape              Param #   \n",
      "=================================================================\n",
      "embedding (Embedding)        (None, 200, 256)          2560000   \n",
      "_________________________________________________________________\n",
      "dropout (Dropout)            (None, 200, 256)          0         \n",
      "_________________________________________________________________\n",
      "global_average_pooling1d (Gl (None, 256)               0         \n",
      "_________________________________________________________________\n",
      "dense (Dense)                (None, 128)               32896     \n",
      "_________________________________________________________________\n",
      "dropout_1 (Dropout)          (None, 128)               0         \n",
      "_________________________________________________________________\n",
      "dense_1 (Dense)              (None, 1)                 129       \n",
      "=================================================================\n",
      "Total params: 2,593,025\n",
      "Trainable params: 2,593,025\n",
      "Non-trainable params: 0\n",
      "_________________________________________________________________\n"
     ]
    }
   ],
   "source": [
    "model.summary()"
   ]
  },
  {
   "cell_type": "code",
   "execution_count": 27,
   "metadata": {},
   "outputs": [
    {
     "name": "stdout",
     "output_type": "stream",
     "text": [
      "The tensorboard extension is already loaded. To reload it, use:\n",
      "  %reload_ext tensorboard\n"
     ]
    },
    {
     "data": {
      "text/plain": [
       "Reusing TensorBoard on port 6006 (pid 11000), started 5:35:24 ago. (Use '!kill 11000' to kill it.)"
      ]
     },
     "metadata": {},
     "output_type": "display_data"
    },
    {
     "data": {
      "text/html": [
       "\n",
       "      <iframe id=\"tensorboard-frame-e965c376369776ce\" width=\"100%\" height=\"800\" frameborder=\"0\">\n",
       "      </iframe>\n",
       "      <script>\n",
       "        (function() {\n",
       "          const frame = document.getElementById(\"tensorboard-frame-e965c376369776ce\");\n",
       "          const url = new URL(\"/\", window.location);\n",
       "          url.port = 6006;\n",
       "          frame.src = url;\n",
       "        })();\n",
       "      </script>\n",
       "  "
      ],
      "text/plain": [
       "<IPython.core.display.HTML object>"
      ]
     },
     "metadata": {},
     "output_type": "display_data"
    }
   ],
   "source": [
    "import os\n",
    "logs_base_dir = \"./logs\"\n",
    "os.makedirs(logs_base_dir, exist_ok=True)\n",
    "%load_ext tensorboard\n",
    "%tensorboard --logdir {logs_base_dir}"
   ]
  },
  {
   "cell_type": "code",
   "execution_count": 28,
   "metadata": {},
   "outputs": [],
   "source": [
    "import datetime\n",
    "logdir = os.path.join(logs_base_dir, datetime.datetime.now().strftime(\"%Y%m%d-%H%M%S\"))\n",
    "tensorboard_callback = tf.keras.callbacks.TensorBoard(logdir, histogram_freq=1)"
   ]
  },
  {
   "cell_type": "code",
   "execution_count": 29,
   "metadata": {},
   "outputs": [
    {
     "name": "stdout",
     "output_type": "stream",
     "text": [
      "Train on 25000 samples, validate on 25000 samples\n",
      "Epoch 1/20\n",
      "25000/25000 [==============================] - 25s 1ms/sample - loss: 0.1495 - accuracy: 0.9482 - val_loss: 0.3359 - val_accuracy: 0.8711\n",
      "Epoch 2/20\n",
      "25000/25000 [==============================] - 22s 894us/sample - loss: 0.1284 - accuracy: 0.9556 - val_loss: 0.3601 - val_accuracy: 0.8671\n",
      "Epoch 3/20\n",
      "25000/25000 [==============================] - 23s 907us/sample - loss: 0.1121 - accuracy: 0.9636 - val_loss: 0.3874 - val_accuracy: 0.8629\n",
      "Epoch 4/20\n",
      "25000/25000 [==============================] - 22s 893us/sample - loss: 0.1005 - accuracy: 0.9683 - val_loss: 0.4204 - val_accuracy: 0.8573\n",
      "Epoch 5/20\n",
      "25000/25000 [==============================] - 22s 886us/sample - loss: 0.0888 - accuracy: 0.9749 - val_loss: 0.4542 - val_accuracy: 0.8561\n",
      "Epoch 6/20\n",
      "25000/25000 [==============================] - 22s 900us/sample - loss: 0.0774 - accuracy: 0.9787 - val_loss: 0.4863 - val_accuracy: 0.8522\n",
      "Epoch 7/20\n",
      "25000/25000 [==============================] - 22s 891us/sample - loss: 0.0689 - accuracy: 0.9814 - val_loss: 0.5247 - val_accuracy: 0.8492\n",
      "Epoch 8/20\n",
      "25000/25000 [==============================] - 22s 898us/sample - loss: 0.0629 - accuracy: 0.9840 - val_loss: 0.5641 - val_accuracy: 0.8459\n",
      "Epoch 9/20\n",
      "25000/25000 [==============================] - 22s 892us/sample - loss: 0.0543 - accuracy: 0.9864 - val_loss: 0.6102 - val_accuracy: 0.8435\n",
      "Epoch 10/20\n",
      "25000/25000 [==============================] - 22s 892us/sample - loss: 0.0484 - accuracy: 0.9879 - val_loss: 0.6536 - val_accuracy: 0.8415\n",
      "Epoch 11/20\n",
      "25000/25000 [==============================] - 22s 900us/sample - loss: 0.0458 - accuracy: 0.9877 - val_loss: 0.6907 - val_accuracy: 0.8404\n",
      "Epoch 12/20\n",
      "25000/25000 [==============================] - 23s 906us/sample - loss: 0.0376 - accuracy: 0.9900 - val_loss: 0.7972 - val_accuracy: 0.8318\n",
      "Epoch 13/20\n",
      "25000/25000 [==============================] - 22s 898us/sample - loss: 0.0318 - accuracy: 0.9921 - val_loss: 0.7930 - val_accuracy: 0.8358\n",
      "Epoch 14/20\n",
      "25000/25000 [==============================] - 8312s 332ms/sample - loss: 0.0269 - accuracy: 0.9932 - val_loss: 0.8574 - val_accuracy: 0.8335\n",
      "Epoch 15/20\n",
      "25000/25000 [==============================] - 1824s 73ms/sample - loss: 0.0264 - accuracy: 0.9929 - val_loss: 0.8848 - val_accuracy: 0.8338\n",
      "Epoch 16/20\n",
      "25000/25000 [==============================] - 32s 1ms/sample - loss: 0.0238 - accuracy: 0.9938 - val_loss: 0.9482 - val_accuracy: 0.8300\n",
      "Epoch 17/20\n",
      "25000/25000 [==============================] - 33s 1ms/sample - loss: 0.0212 - accuracy: 0.9941 - val_loss: 0.9878 - val_accuracy: 0.8314\n",
      "Epoch 18/20\n",
      "25000/25000 [==============================] - 23s 918us/sample - loss: 0.0184 - accuracy: 0.9948 - val_loss: 1.0401 - val_accuracy: 0.8301\n",
      "Epoch 19/20\n",
      "25000/25000 [==============================] - 22s 884us/sample - loss: 0.0220 - accuracy: 0.9931 - val_loss: 1.0848 - val_accuracy: 0.8313\n",
      "Epoch 20/20\n",
      "25000/25000 [==============================] - 23s 923us/sample - loss: 0.0173 - accuracy: 0.9949 - val_loss: 1.1479 - val_accuracy: 0.8294\n"
     ]
    }
   ],
   "source": [
    "model.compile(optimizer='adam',loss='binary_crossentropy',metrics=['accuracy'])\n",
    "score = model.fit(X_train,y_train,batch_size = batch_size,\n",
    "                  epochs=epochs,callbacks=[tensorboard_callback],validation_data=(X_test,y_test))"
   ]
  },
  {
   "cell_type": "code",
   "execution_count": null,
   "metadata": {},
   "outputs": [],
   "source": [
    "score = model.evaluate(X_test,y_test,batch_size=batch_size,callbacks=[tensorboard_callback])"
   ]
  },
  {
   "cell_type": "code",
   "execution_count": null,
   "metadata": {},
   "outputs": [],
   "source": [
    "score = model.evaluate(X_test, y_test, batch_size=BATCH_SIZE)\n",
    "print(\"\\nTest score:\", score[0])\n",
    "print('Test accuracy:', score[1])"
   ]
  },
  {
   "cell_type": "code",
   "execution_count": null,
   "metadata": {},
   "outputs": [],
   "source": []
  }
 ],
 "metadata": {
  "kernelspec": {
   "display_name": "Python 3",
   "language": "python",
   "name": "python3"
  },
  "language_info": {
   "codemirror_mode": {
    "name": "ipython",
    "version": 3
   },
   "file_extension": ".py",
   "mimetype": "text/x-python",
   "name": "python",
   "nbconvert_exporter": "python",
   "pygments_lexer": "ipython3",
   "version": "3.7.4"
  }
 },
 "nbformat": 4,
 "nbformat_minor": 2
}
