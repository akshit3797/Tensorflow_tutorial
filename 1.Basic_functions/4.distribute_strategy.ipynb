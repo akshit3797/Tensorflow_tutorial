{
  "nbformat": 4,
  "nbformat_minor": 0,
  "metadata": {
    "colab": {
      "name": "distribute strategy",
      "provenance": []
    },
    "kernelspec": {
      "name": "python3",
      "display_name": "Python 3"
    },
    "accelerator": "GPU"
  },
  "cells": [
    {
      "cell_type": "markdown",
      "metadata": {
        "id": "D5M-9Lej0Szq",
        "colab_type": "text"
      },
      "source": [
        "install 2.0 with gpu support\n"
      ]
    },
    {
      "cell_type": "code",
      "metadata": {
        "id": "TFGm0TXM0bak",
        "colab_type": "code",
        "colab": {}
      },
      "source": [
        "import os\n",
        "import time\n",
        "import tensorflow as tf\n",
        "import numpy as np"
      ],
      "execution_count": 0,
      "outputs": []
    },
    {
      "cell_type": "code",
      "metadata": {
        "id": "xvPuXIyXAd5G",
        "colab_type": "code",
        "outputId": "057d7765-5390-4fb0-b752-85632c4c37fc",
        "colab": {
          "base_uri": "https://localhost:8080/",
          "height": 34
        }
      },
      "source": [
        "tf.test.gpu_device_name()"
      ],
      "execution_count": 3,
      "outputs": [
        {
          "output_type": "execute_result",
          "data": {
            "text/plain": [
              "'/device:GPU:0'"
            ]
          },
          "metadata": {
            "tags": []
          },
          "execution_count": 3
        }
      ]
    },
    {
      "cell_type": "code",
      "metadata": {
        "id": "wYar3A0vBVtZ",
        "colab_type": "code",
        "outputId": "820d90ca-54a4-4b5a-e43a-5038cb374dab",
        "colab": {
          "base_uri": "https://localhost:8080/",
          "height": 34
        }
      },
      "source": [
        "from tensorflow.python.client import device_lib\n",
        "\n",
        "def get_available_gpus():\n",
        "    local_device_protos = device_lib.list_local_devices()\n",
        "    return [x.name for x in local_device_protos if x.device_type == 'GPU']\n",
        "\n",
        "get_available_gpus()"
      ],
      "execution_count": 4,
      "outputs": [
        {
          "output_type": "execute_result",
          "data": {
            "text/plain": [
              "['/device:GPU:0']"
            ]
          },
          "metadata": {
            "tags": []
          },
          "execution_count": 4
        }
      ]
    },
    {
      "cell_type": "markdown",
      "metadata": {
        "id": "ZiyzTwJ20iaY",
        "colab_type": "text"
      },
      "source": [
        "train dataset"
      ]
    },
    {
      "cell_type": "code",
      "metadata": {
        "id": "K_4FCxsO0les",
        "colab_type": "code",
        "outputId": "3c1b7653-38cc-43a8-a1ac-8821d0a69dd1",
        "colab": {
          "base_uri": "https://localhost:8080/",
          "height": 187
        }
      },
      "source": [
        "# How many categories we are predicting from (0-9)\n",
        "LABEL_DIMENSIONS = 10\n",
        "\n",
        "\n",
        "(train_images, train_labels), (test_images, test_labels) = tf.keras.datasets.fashion_mnist.load_data()\n",
        "TRAINING_SIZE = len(train_images)\n",
        "TEST_SIZE = len(test_images)\n",
        "\n",
        "train_images = np.asarray(train_images, dtype=np.float32) / 255\n",
        "\n",
        "# Convert the train images and add channels\n",
        "train_images = train_images.reshape((TRAINING_SIZE, 28, 28, 1))\n",
        "\n",
        "test_images = np.asarray(test_images, dtype=np.float32) / 255\n",
        "# Convert the train images and add channels\n",
        "test_images = test_images.reshape((TEST_SIZE, 28, 28, 1))\n",
        "\n",
        "train_labels  = tf.keras.utils.to_categorical(train_labels, LABEL_DIMENSIONS)\n",
        "test_labels = tf.keras.utils.to_categorical(test_labels, LABEL_DIMENSIONS)\n",
        "\n",
        "# Cast the labels to float\n",
        "train_labels = train_labels.astype(np.float32)\n",
        "test_labels = test_labels.astype(np.float32)\n",
        "print (train_labels.shape)\n",
        "print (test_labels.shape)"
      ],
      "execution_count": 5,
      "outputs": [
        {
          "output_type": "stream",
          "text": [
            "Downloading data from https://storage.googleapis.com/tensorflow/tf-keras-datasets/train-labels-idx1-ubyte.gz\n",
            "32768/29515 [=================================] - 0s 0us/step\n",
            "Downloading data from https://storage.googleapis.com/tensorflow/tf-keras-datasets/train-images-idx3-ubyte.gz\n",
            "26427392/26421880 [==============================] - 0s 0us/step\n",
            "Downloading data from https://storage.googleapis.com/tensorflow/tf-keras-datasets/t10k-labels-idx1-ubyte.gz\n",
            "8192/5148 [===============================================] - 0s 0us/step\n",
            "Downloading data from https://storage.googleapis.com/tensorflow/tf-keras-datasets/t10k-images-idx3-ubyte.gz\n",
            "4423680/4422102 [==============================] - 0s 0us/step\n",
            "(60000, 10)\n",
            "(10000, 10)\n"
          ],
          "name": "stdout"
        }
      ]
    },
    {
      "cell_type": "markdown",
      "metadata": {
        "id": "_eV9AWWb08RP",
        "colab_type": "text"
      },
      "source": [
        "build a CNN model - using the functional API"
      ]
    },
    {
      "cell_type": "code",
      "metadata": {
        "id": "9z5ScWig0-XR",
        "colab_type": "code",
        "outputId": "ee5ddeb0-9b92-4d8e-bd11-a5573bbffbac",
        "colab": {
          "base_uri": "https://localhost:8080/",
          "height": 527
        }
      },
      "source": [
        "inputs = tf.keras.Input(shape=(28,28,1))  \n",
        "x = tf.keras.layers.Conv2D(filters=32, kernel_size=(3, 3), activation='relu')(inputs)\n",
        "x = tf.keras.layers.MaxPooling2D(pool_size=(2, 2), strides=2)(x)\n",
        "x = tf.keras.layers.Conv2D(filters=64, kernel_size=(3, 3), activation='relu')(x)\n",
        "x = tf.keras.layers.MaxPooling2D(pool_size=(2, 2), strides=2)(x)\n",
        "x = tf.keras.layers.Conv2D(filters=256, kernel_size=(3, 3), activation='relu')(x)\n",
        "x = tf.keras.layers.Flatten()(x)\n",
        "x = tf.keras.layers.Dense(64, activation='relu')(x)\n",
        "x = tf.keras.layers.Dropout(0.2)(x)\n",
        "x = tf.keras.layers.Dense(128, activation='relu')(x)\n",
        "\n",
        "predictions = tf.keras.layers.Dense(LABEL_DIMENSIONS, activation='softmax')(x)\n",
        "\n",
        "model = tf.keras.Model(inputs=inputs, outputs=predictions)\n",
        "model.summary()"
      ],
      "execution_count": 6,
      "outputs": [
        {
          "output_type": "stream",
          "text": [
            "Model: \"model\"\n",
            "_________________________________________________________________\n",
            "Layer (type)                 Output Shape              Param #   \n",
            "=================================================================\n",
            "input_1 (InputLayer)         [(None, 28, 28, 1)]       0         \n",
            "_________________________________________________________________\n",
            "conv2d (Conv2D)              (None, 26, 26, 32)        320       \n",
            "_________________________________________________________________\n",
            "max_pooling2d (MaxPooling2D) (None, 13, 13, 32)        0         \n",
            "_________________________________________________________________\n",
            "conv2d_1 (Conv2D)            (None, 11, 11, 64)        18496     \n",
            "_________________________________________________________________\n",
            "max_pooling2d_1 (MaxPooling2 (None, 5, 5, 64)          0         \n",
            "_________________________________________________________________\n",
            "conv2d_2 (Conv2D)            (None, 3, 3, 256)         147712    \n",
            "_________________________________________________________________\n",
            "flatten (Flatten)            (None, 2304)              0         \n",
            "_________________________________________________________________\n",
            "dense (Dense)                (None, 64)                147520    \n",
            "_________________________________________________________________\n",
            "dropout (Dropout)            (None, 64)                0         \n",
            "_________________________________________________________________\n",
            "dense_1 (Dense)              (None, 128)               8320      \n",
            "_________________________________________________________________\n",
            "dense_2 (Dense)              (None, 10)                1290      \n",
            "=================================================================\n",
            "Total params: 323,658\n",
            "Trainable params: 323,658\n",
            "Non-trainable params: 0\n",
            "_________________________________________________________________\n"
          ],
          "name": "stdout"
        }
      ]
    },
    {
      "cell_type": "markdown",
      "metadata": {
        "id": "M9hlsler2JuV",
        "colab_type": "text"
      },
      "source": [
        "compile the model"
      ]
    },
    {
      "cell_type": "code",
      "metadata": {
        "id": "Bm1_OUjK1374",
        "colab_type": "code",
        "colab": {}
      },
      "source": [
        "optimizer = tf.keras.optimizers.SGD()\n",
        "model.compile(loss='categorical_crossentropy',\n",
        "              optimizer=optimizer,\n",
        "              metrics=['accuracy'])"
      ],
      "execution_count": 0,
      "outputs": []
    },
    {
      "cell_type": "markdown",
      "metadata": {
        "id": "rHuut1Li2O8b",
        "colab_type": "text"
      },
      "source": [
        "define the strategy\n"
      ]
    },
    {
      "cell_type": "code",
      "metadata": {
        "id": "FYZm9kgI2SMa",
        "colab_type": "code",
        "outputId": "e47a9b29-f2d2-4377-f4d8-8102d2e73356",
        "colab": {
          "base_uri": "https://localhost:8080/",
          "height": 68
        }
      },
      "source": [
        "#strategy = None\n",
        "strategy = tf.distribute.MirroredStrategy()\n",
        "config = tf.estimator.RunConfig(train_distribute=strategy)\n"
      ],
      "execution_count": 8,
      "outputs": [
        {
          "output_type": "stream",
          "text": [
            "INFO:tensorflow:Using MirroredStrategy with devices ('/job:localhost/replica:0/task:0/device:GPU:0',)\n",
            "INFO:tensorflow:Initializing RunConfig with distribution strategies.\n",
            "INFO:tensorflow:Not using Distribute Coordinator.\n"
          ],
          "name": "stdout"
        }
      ]
    },
    {
      "cell_type": "markdown",
      "metadata": {
        "id": "P-3Ynj6R4wGq",
        "colab_type": "text"
      },
      "source": [
        "convert Keras to Estimator"
      ]
    },
    {
      "cell_type": "code",
      "metadata": {
        "id": "eVP6xiGY43Sn",
        "colab_type": "code",
        "outputId": "c9bf6006-366a-4d47-c347-b9d7d794c1fb",
        "colab": {
          "base_uri": "https://localhost:8080/",
          "height": 241
        }
      },
      "source": [
        "estimator = tf.keras.estimator.model_to_estimator(model, config=config)"
      ],
      "execution_count": 9,
      "outputs": [
        {
          "output_type": "stream",
          "text": [
            "WARNING:tensorflow:Using temporary folder as model directory: /tmp/tmp86ypep1m\n",
            "INFO:tensorflow:Using the Keras model provided.\n",
            "WARNING:tensorflow:From /usr/local/lib/python3.6/dist-packages/tensorflow_core/python/ops/resource_variable_ops.py:1635: calling BaseResourceVariable.__init__ (from tensorflow.python.ops.resource_variable_ops) with constraint is deprecated and will be removed in a future version.\n",
            "Instructions for updating:\n",
            "If using Keras pass *_constraint arguments to layers.\n",
            "INFO:tensorflow:Using config: {'_model_dir': '/tmp/tmp86ypep1m', '_tf_random_seed': None, '_save_summary_steps': 100, '_save_checkpoints_steps': None, '_save_checkpoints_secs': 600, '_session_config': allow_soft_placement: true\n",
            "graph_options {\n",
            "  rewrite_options {\n",
            "    meta_optimizer_iterations: ONE\n",
            "  }\n",
            "}\n",
            ", '_keep_checkpoint_max': 5, '_keep_checkpoint_every_n_hours': 10000, '_log_step_count_steps': 100, '_train_distribute': <tensorflow.python.distribute.mirrored_strategy.MirroredStrategy object at 0x7f93f8426f60>, '_device_fn': None, '_protocol': None, '_eval_distribute': None, '_experimental_distribute': None, '_experimental_max_worker_delay_secs': None, '_session_creation_timeout_secs': 7200, '_service': None, '_cluster_spec': ClusterSpec({}), '_task_type': 'worker', '_task_id': 0, '_global_id_in_cluster': 0, '_master': '', '_evaluation_master': '', '_is_chief': True, '_num_ps_replicas': 0, '_num_worker_replicas': 1, '_distribute_coordinator_mode': None}\n"
          ],
          "name": "stdout"
        }
      ]
    },
    {
      "cell_type": "markdown",
      "metadata": {
        "id": "PlsFvTOu5Axk",
        "colab_type": "text"
      },
      "source": [
        "input function for estimator"
      ]
    },
    {
      "cell_type": "code",
      "metadata": {
        "id": "uQq0R8cc485C",
        "colab_type": "code",
        "colab": {}
      },
      "source": [
        "def input_fn(images, labels, epochs, batch_size):\n",
        "    # Convert the inputs to a Dataset\n",
        "    dataset = tf.data.Dataset.from_tensor_slices((images, labels))\n",
        "\n",
        "    # Shuffle, repeat, and batch the examples. \n",
        "    SHUFFLE_SIZE = 5000\n",
        "    dataset = dataset.shuffle(SHUFFLE_SIZE).repeat(epochs).batch(batch_size)\n",
        "    dataset = dataset.prefetch(None)\n",
        "\n",
        "    # Return the dataset. \n",
        "    return dataset"
      ],
      "execution_count": 0,
      "outputs": []
    },
    {
      "cell_type": "markdown",
      "metadata": {
        "id": "kt25OEKS5g75",
        "colab_type": "text"
      },
      "source": [
        "train function"
      ]
    },
    {
      "cell_type": "code",
      "metadata": {
        "id": "MMbPOC3f5ku3",
        "colab_type": "code",
        "outputId": "520b9b50-1a2f-443a-e83c-edf5f41e4500",
        "colab": {
          "base_uri": "https://localhost:8080/",
          "height": 1000
        }
      },
      "source": [
        "BATCH_SIZE = 512\n",
        "EPOCHS = 50\n",
        "\n",
        "#time_hist = TimeHistory()\n",
        "\n",
        "estimator_train_result = estimator.train(input_fn=lambda:input_fn(train_images,\n",
        "                                         train_labels,\n",
        "                                         epochs=EPOCHS,\n",
        "                                         batch_size=BATCH_SIZE))\n",
        "print(estimator_train_result)"
      ],
      "execution_count": 11,
      "outputs": [
        {
          "output_type": "stream",
          "text": [
            "INFO:tensorflow:Reduce to /replica:0/task:0/device:CPU:0 then broadcast to ('/replica:0/task:0/device:CPU:0',).\n",
            "INFO:tensorflow:Calling model_fn.\n",
            "INFO:tensorflow:Reduce to /replica:0/task:0/device:CPU:0 then broadcast to ('/replica:0/task:0/device:CPU:0',).\n",
            "INFO:tensorflow:Reduce to /replica:0/task:0/device:CPU:0 then broadcast to ('/replica:0/task:0/device:CPU:0',).\n",
            "INFO:tensorflow:Reduce to /replica:0/task:0/device:CPU:0 then broadcast to ('/replica:0/task:0/device:CPU:0',).\n",
            "INFO:tensorflow:Reduce to /replica:0/task:0/device:CPU:0 then broadcast to ('/replica:0/task:0/device:CPU:0',).\n",
            "INFO:tensorflow:Reduce to /replica:0/task:0/device:CPU:0 then broadcast to ('/replica:0/task:0/device:CPU:0',).\n",
            "INFO:tensorflow:Reduce to /replica:0/task:0/device:CPU:0 then broadcast to ('/replica:0/task:0/device:CPU:0',).\n",
            "INFO:tensorflow:Reduce to /replica:0/task:0/device:CPU:0 then broadcast to ('/replica:0/task:0/device:CPU:0',).\n",
            "INFO:tensorflow:Reduce to /replica:0/task:0/device:CPU:0 then broadcast to ('/replica:0/task:0/device:CPU:0',).\n",
            "INFO:tensorflow:Reduce to /replica:0/task:0/device:CPU:0 then broadcast to ('/replica:0/task:0/device:CPU:0',).\n",
            "INFO:tensorflow:Done calling model_fn.\n",
            "INFO:tensorflow:Warm-starting with WarmStartSettings: WarmStartSettings(ckpt_to_initialize_from='/tmp/tmp86ypep1m/keras/keras_model.ckpt', vars_to_warm_start='.*', var_name_to_vocab_info={}, var_name_to_prev_var_name={})\n",
            "INFO:tensorflow:Warm-starting from: /tmp/tmp86ypep1m/keras/keras_model.ckpt\n",
            "INFO:tensorflow:Warm-starting variables only in TRAINABLE_VARIABLES.\n",
            "INFO:tensorflow:Warm-started 12 variables.\n",
            "INFO:tensorflow:Create CheckpointSaverHook.\n",
            "INFO:tensorflow:Graph was finalized.\n",
            "INFO:tensorflow:Running local_init_op.\n",
            "INFO:tensorflow:Done running local_init_op.\n",
            "INFO:tensorflow:Saving checkpoints for 0 into /tmp/tmp86ypep1m/model.ckpt.\n",
            "INFO:tensorflow:loss = 2.3026006, step = 0\n",
            "INFO:tensorflow:global_step/sec: 55.53\n",
            "INFO:tensorflow:loss = 2.2797484, step = 100 (1.805 sec)\n",
            "INFO:tensorflow:global_step/sec: 58.7242\n",
            "INFO:tensorflow:loss = 2.2384243, step = 200 (1.702 sec)\n",
            "INFO:tensorflow:global_step/sec: 57.3272\n",
            "INFO:tensorflow:loss = 2.0444417, step = 300 (1.745 sec)\n",
            "INFO:tensorflow:global_step/sec: 57.007\n",
            "INFO:tensorflow:loss = 1.4313614, step = 400 (1.757 sec)\n",
            "INFO:tensorflow:global_step/sec: 58.1745\n",
            "INFO:tensorflow:loss = 1.1219476, step = 500 (1.717 sec)\n",
            "INFO:tensorflow:global_step/sec: 57.5003\n",
            "INFO:tensorflow:loss = 1.089963, step = 600 (1.738 sec)\n",
            "INFO:tensorflow:global_step/sec: 58.0459\n",
            "INFO:tensorflow:loss = 0.9134172, step = 700 (1.723 sec)\n",
            "INFO:tensorflow:global_step/sec: 57.8275\n",
            "INFO:tensorflow:loss = 0.8723961, step = 800 (1.729 sec)\n",
            "INFO:tensorflow:global_step/sec: 58.2954\n",
            "INFO:tensorflow:loss = 0.889674, step = 900 (1.715 sec)\n",
            "INFO:tensorflow:global_step/sec: 57.9074\n",
            "INFO:tensorflow:loss = 0.8662137, step = 1000 (1.724 sec)\n",
            "INFO:tensorflow:global_step/sec: 56.12\n",
            "INFO:tensorflow:loss = 0.78583, step = 1100 (1.789 sec)\n",
            "INFO:tensorflow:global_step/sec: 55.8274\n",
            "INFO:tensorflow:loss = 0.808458, step = 1200 (1.788 sec)\n",
            "INFO:tensorflow:global_step/sec: 54.0459\n",
            "INFO:tensorflow:loss = 0.79023314, step = 1300 (1.847 sec)\n",
            "INFO:tensorflow:global_step/sec: 55.671\n",
            "INFO:tensorflow:loss = 0.74831164, step = 1400 (1.798 sec)\n",
            "INFO:tensorflow:global_step/sec: 56.1731\n",
            "INFO:tensorflow:loss = 0.79194665, step = 1500 (1.781 sec)\n",
            "INFO:tensorflow:global_step/sec: 56.6057\n",
            "INFO:tensorflow:loss = 0.6569848, step = 1600 (1.769 sec)\n",
            "INFO:tensorflow:global_step/sec: 55.5671\n",
            "INFO:tensorflow:loss = 0.74133885, step = 1700 (1.802 sec)\n",
            "INFO:tensorflow:global_step/sec: 54.4077\n",
            "INFO:tensorflow:loss = 0.6512488, step = 1800 (1.835 sec)\n",
            "INFO:tensorflow:global_step/sec: 56.4035\n",
            "INFO:tensorflow:loss = 0.71959436, step = 1900 (1.769 sec)\n",
            "INFO:tensorflow:global_step/sec: 55.1556\n",
            "INFO:tensorflow:loss = 0.6278523, step = 2000 (1.818 sec)\n",
            "INFO:tensorflow:global_step/sec: 55.0489\n",
            "INFO:tensorflow:loss = 0.7876097, step = 2100 (1.812 sec)\n",
            "INFO:tensorflow:global_step/sec: 55.2456\n",
            "INFO:tensorflow:loss = 0.6276801, step = 2200 (1.811 sec)\n",
            "INFO:tensorflow:global_step/sec: 55.5016\n",
            "INFO:tensorflow:loss = 0.6488223, step = 2300 (1.804 sec)\n",
            "INFO:tensorflow:global_step/sec: 54.8783\n",
            "INFO:tensorflow:loss = 0.5989152, step = 2400 (1.819 sec)\n",
            "INFO:tensorflow:global_step/sec: 56.7591\n",
            "INFO:tensorflow:loss = 0.62773347, step = 2500 (1.763 sec)\n",
            "INFO:tensorflow:global_step/sec: 55.0857\n",
            "INFO:tensorflow:loss = 0.5977507, step = 2600 (1.818 sec)\n",
            "INFO:tensorflow:global_step/sec: 55.8559\n",
            "INFO:tensorflow:loss = 0.5712932, step = 2700 (1.787 sec)\n",
            "INFO:tensorflow:global_step/sec: 55.5089\n",
            "INFO:tensorflow:loss = 0.59744674, step = 2800 (1.801 sec)\n",
            "INFO:tensorflow:global_step/sec: 55.9004\n",
            "INFO:tensorflow:loss = 0.5928749, step = 2900 (1.790 sec)\n",
            "INFO:tensorflow:global_step/sec: 54.7025\n",
            "INFO:tensorflow:loss = 0.59196544, step = 3000 (1.829 sec)\n",
            "INFO:tensorflow:global_step/sec: 56.0125\n",
            "INFO:tensorflow:loss = 0.55838, step = 3100 (1.783 sec)\n",
            "INFO:tensorflow:global_step/sec: 56.8777\n",
            "INFO:tensorflow:loss = 0.6010619, step = 3200 (1.761 sec)\n",
            "INFO:tensorflow:global_step/sec: 55.7113\n",
            "INFO:tensorflow:loss = 0.5782837, step = 3300 (1.793 sec)\n",
            "INFO:tensorflow:global_step/sec: 55.6842\n",
            "INFO:tensorflow:loss = 0.60609305, step = 3400 (1.796 sec)\n",
            "INFO:tensorflow:global_step/sec: 56.367\n",
            "INFO:tensorflow:loss = 0.5516306, step = 3500 (1.775 sec)\n",
            "INFO:tensorflow:global_step/sec: 56.2182\n",
            "INFO:tensorflow:loss = 0.4996107, step = 3600 (1.778 sec)\n",
            "INFO:tensorflow:global_step/sec: 54.2181\n",
            "INFO:tensorflow:loss = 0.52648324, step = 3700 (1.846 sec)\n",
            "INFO:tensorflow:global_step/sec: 55.7094\n",
            "INFO:tensorflow:loss = 0.5857169, step = 3800 (1.797 sec)\n",
            "INFO:tensorflow:global_step/sec: 55.7196\n",
            "INFO:tensorflow:loss = 0.5839296, step = 3900 (1.795 sec)\n",
            "INFO:tensorflow:global_step/sec: 55.9389\n",
            "INFO:tensorflow:loss = 0.5038627, step = 4000 (1.784 sec)\n",
            "INFO:tensorflow:global_step/sec: 55.7578\n",
            "INFO:tensorflow:loss = 0.5268037, step = 4100 (1.793 sec)\n",
            "INFO:tensorflow:global_step/sec: 55.7426\n",
            "INFO:tensorflow:loss = 0.5310969, step = 4200 (1.794 sec)\n",
            "INFO:tensorflow:global_step/sec: 56.9452\n",
            "INFO:tensorflow:loss = 0.522386, step = 4300 (1.758 sec)\n",
            "INFO:tensorflow:global_step/sec: 55.8818\n",
            "INFO:tensorflow:loss = 0.5250358, step = 4400 (1.792 sec)\n",
            "INFO:tensorflow:global_step/sec: 56.3499\n",
            "INFO:tensorflow:loss = 0.55054504, step = 4500 (1.773 sec)\n",
            "INFO:tensorflow:global_step/sec: 56.2764\n",
            "INFO:tensorflow:loss = 0.52602327, step = 4600 (1.775 sec)\n",
            "INFO:tensorflow:global_step/sec: 55.8283\n",
            "INFO:tensorflow:loss = 0.48569942, step = 4700 (1.793 sec)\n",
            "INFO:tensorflow:global_step/sec: 54.9402\n",
            "INFO:tensorflow:loss = 0.47119892, step = 4800 (1.818 sec)\n",
            "INFO:tensorflow:global_step/sec: 56.5954\n",
            "INFO:tensorflow:loss = 0.5612759, step = 4900 (1.767 sec)\n",
            "INFO:tensorflow:global_step/sec: 55.7786\n",
            "INFO:tensorflow:loss = 0.45721385, step = 5000 (1.792 sec)\n",
            "INFO:tensorflow:global_step/sec: 56.6726\n",
            "INFO:tensorflow:loss = 0.4591909, step = 5100 (1.766 sec)\n",
            "INFO:tensorflow:global_step/sec: 56.6112\n",
            "INFO:tensorflow:loss = 0.52485275, step = 5200 (1.767 sec)\n",
            "INFO:tensorflow:global_step/sec: 55.8767\n",
            "INFO:tensorflow:loss = 0.47339934, step = 5300 (1.792 sec)\n",
            "INFO:tensorflow:global_step/sec: 54.2936\n",
            "INFO:tensorflow:loss = 0.45356977, step = 5400 (1.841 sec)\n",
            "INFO:tensorflow:global_step/sec: 55.0726\n",
            "INFO:tensorflow:loss = 0.44942552, step = 5500 (1.816 sec)\n",
            "INFO:tensorflow:global_step/sec: 55.2645\n",
            "INFO:tensorflow:loss = 0.4613297, step = 5600 (1.805 sec)\n",
            "INFO:tensorflow:global_step/sec: 55.6472\n",
            "INFO:tensorflow:loss = 0.54017156, step = 5700 (1.800 sec)\n",
            "INFO:tensorflow:global_step/sec: 55.626\n",
            "INFO:tensorflow:loss = 0.4670662, step = 5800 (1.797 sec)\n",
            "INFO:tensorflow:Saving checkpoints for 5860 into /tmp/tmp86ypep1m/model.ckpt.\n",
            "INFO:tensorflow:Loss for final step: 0.3810508.\n",
            "<tensorflow_estimator.python.estimator.estimator.EstimatorV2 object at 0x7f93f83c8f28>\n"
          ],
          "name": "stdout"
        }
      ]
    },
    {
      "cell_type": "markdown",
      "metadata": {
        "id": "JDcD0hKZ9LOK",
        "colab_type": "text"
      },
      "source": [
        "with 2.0alpha If i use strategy = tf.distribute.MirroredStrategy() and GPUS\n",
        "then I get an error \"ValueError: Only TensorFlow native optimizers are supported with DistributionStrategy.\"\n",
        "**Reported** the problem to  https://github.com/tensorflow/tensorflow/issues/27696\n",
        "fixed in night-build.\n",
        "\n",
        "This seems fixed in TF2.1"
      ]
    },
    {
      "cell_type": "code",
      "metadata": {
        "id": "eWru8nRWvmIu",
        "colab_type": "code",
        "outputId": "5888fcb9-d012-4265-a78b-07f2105f02d8",
        "colab": {
          "base_uri": "https://localhost:8080/",
          "height": 221
        }
      },
      "source": [
        "estimator.evaluate(lambda:input_fn(test_images, \n",
        "                                   test_labels,\n",
        "                                   epochs=1,\n",
        "                                   batch_size=BATCH_SIZE))"
      ],
      "execution_count": 13,
      "outputs": [
        {
          "output_type": "stream",
          "text": [
            "INFO:tensorflow:Calling model_fn.\n",
            "INFO:tensorflow:Done calling model_fn.\n",
            "INFO:tensorflow:Starting evaluation at 2020-03-07T22:21:48Z\n",
            "INFO:tensorflow:Graph was finalized.\n",
            "INFO:tensorflow:Restoring parameters from /tmp/tmp86ypep1m/model.ckpt-5860\n",
            "INFO:tensorflow:Running local_init_op.\n",
            "INFO:tensorflow:Done running local_init_op.\n",
            "INFO:tensorflow:Inference Time : 0.45970s\n",
            "INFO:tensorflow:Finished evaluation at 2020-03-07-22:21:49\n",
            "INFO:tensorflow:Saving dict for global step 5860: accuracy = 0.8243, global_step = 5860, loss = 0.4672447\n",
            "INFO:tensorflow:Saving 'checkpoint_path' summary for global step 5860: /tmp/tmp86ypep1m/model.ckpt-5860\n"
          ],
          "name": "stdout"
        },
        {
          "output_type": "execute_result",
          "data": {
            "text/plain": [
              "{'accuracy': 0.8243, 'global_step': 5860, 'loss': 0.4672447}"
            ]
          },
          "metadata": {
            "tags": []
          },
          "execution_count": 13
        }
      ]
    },
    {
      "cell_type": "markdown",
      "metadata": {
        "id": "37HXKdlUEOnQ",
        "colab_type": "text"
      },
      "source": [
        "In alternative this is also useful"
      ]
    },
    {
      "cell_type": "code",
      "metadata": {
        "id": "2nxlJ3wSFz-8",
        "colab_type": "code",
        "colab": {}
      },
      "source": [
        ""
      ],
      "execution_count": 0,
      "outputs": []
    }
  ]
}