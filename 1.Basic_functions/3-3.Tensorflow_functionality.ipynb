{
 "cells": [
  {
   "cell_type": "markdown",
   "metadata": {},
   "source": [
    "## Autograph\n",
    "\n",
    "* Using AutoGraph is extremely easy: the only thing that you need to do is to annotate your Python code with the special decorator tf.function as in the following code example.\n",
    "\n",
    "*  there is no need to annotate linear_layer."
   ]
  },
  {
   "cell_type": "code",
   "execution_count": 1,
   "metadata": {},
   "outputs": [],
   "source": [
    "import tensorflow as tf\n",
    "\n",
    "def linear_layer(x):\n",
    "    return 3 * x + 2\n",
    "\n",
    "@tf.function\n",
    "def simple_nn(x):\n",
    "    return tf.nn.relu(linear_layer(x))\n",
    "\n",
    "def simple_function(x):\n",
    "    return 3*x"
   ]
  },
  {
   "cell_type": "code",
   "execution_count": 2,
   "metadata": {},
   "outputs": [
    {
     "data": {
      "text/plain": [
       "<tensorflow.python.eager.def_function.Function at 0x13069a450>"
      ]
     },
     "execution_count": 2,
     "metadata": {},
     "output_type": "execute_result"
    }
   ],
   "source": [
    "simple_nn"
   ]
  },
  {
   "cell_type": "code",
   "execution_count": 3,
   "metadata": {},
   "outputs": [
    {
     "data": {
      "text/plain": [
       "<function __main__.simple_function(x)>"
      ]
     },
     "execution_count": 3,
     "metadata": {},
     "output_type": "execute_result"
    }
   ],
   "source": [
    "simple_function"
   ]
  },
  {
   "cell_type": "code",
   "execution_count": 4,
   "metadata": {},
   "outputs": [
    {
     "name": "stdout",
     "output_type": "stream",
     "text": [
      "def tf__simple_nn(x):\n",
      "  do_return = False\n",
      "  retval_ = ag__.UndefinedReturnValue()\n",
      "  with ag__.FunctionScope('simple_nn', 'fscope', ag__.ConversionOptions(recursive=True, user_requested=True, optional_features=(), internal_convert_user_code=True)) as fscope:\n",
      "    do_return = True\n",
      "    retval_ = fscope.mark_return_value(ag__.converted_call(tf.nn.relu, (ag__.converted_call(linear_layer, (x,), None, fscope),), None, fscope))\n",
      "  do_return,\n",
      "  return ag__.retval(retval_)\n",
      "\n"
     ]
    }
   ],
   "source": [
    "# internal look at the auto-generated code\n",
    "print(tf.autograph.to_code(simple_nn.python_function, experimental_optional_features=None))"
   ]
  },
  {
   "cell_type": "markdown",
   "metadata": {},
   "source": [
    "* Let's see an example of the difference in speed between code annotated with the tf.function() decorator and the same code with no annotation. Here we use a layer LSTMCell() which will be discussed in Chapter 8, Recurrent Neural Networks, but for now consider it as a black box doing some form of learning:"
   ]
  },
  {
   "cell_type": "code",
   "execution_count": 5,
   "metadata": {
    "code_folding": []
   },
   "outputs": [
    {
     "name": "stdout",
     "output_type": "stream",
     "text": [
      "graph_time: 0.18826654699999956\n",
      "auto_graph_time: 0.08413733799999967\n"
     ]
    }
   ],
   "source": [
    "import tensorflow as tf\n",
    "import timeit\n",
    "cell = tf.keras.layers.LSTMCell(100)\n",
    "\n",
    "@tf.function\n",
    "def fn(input, state):\n",
    "    return cell(input, state)\n",
    "\n",
    "input = tf.zeros([100, 100])\n",
    "state = [tf.zeros([100, 100])] * 2\n",
    "\n",
    "# warmup\n",
    "cell(input, state)\n",
    "fn(input, state)\n",
    "\n",
    "graph_time = timeit.timeit(lambda: cell(input, state), number=100)\n",
    "auto_graph_time = timeit.timeit(lambda: fn(input, state), number=100)\n",
    "\n",
    "print('graph_time:', graph_time)\n",
    "print('auto_graph_time:', auto_graph_time)"
   ]
  },
  {
   "cell_type": "markdown",
   "metadata": {},
   "source": [
    "# Define Model in 3 ways"
   ]
  },
  {
   "cell_type": "markdown",
   "metadata": {},
   "source": [
    "### 1. Sequential API"
   ]
  },
  {
   "cell_type": "code",
   "execution_count": 6,
   "metadata": {},
   "outputs": [],
   "source": [
    "BATCH_SIZE = 128\n",
    "VERBOSE = 1\n",
    "NB_CLASSES = 10   # number of outputs = number of digits\n",
    "N_HIDDEN = 128\n",
    "RESHAPED = 784"
   ]
  },
  {
   "cell_type": "code",
   "execution_count": 7,
   "metadata": {},
   "outputs": [],
   "source": [
    "model = tf.keras.models.Sequential()\n",
    "model.add(tf.keras.layers.Dense(10,\n",
    "          input_shape=(RESHAPED,),\n",
    "          name='dense_layer', activation='relu'))\n",
    "model.add(tf.keras.layers.Dense(N_HIDDEN,\n",
    "          name='dense_layer_2', activation='relu'))\n",
    "model.add(tf.keras.layers.Dense(NB_CLASSES,\n",
    "          name='dense_layer_3', activation='softmax'))"
   ]
  },
  {
   "cell_type": "code",
   "execution_count": 8,
   "metadata": {},
   "outputs": [
    {
     "data": {
      "image/png": "[encoded data removed]",
      "text/plain": [
       "<IPython.core.display.Image object>"
      ]
     },
     "execution_count": 8,
     "metadata": {},
     "output_type": "execute_result"
    }
   ],
   "source": [
    "tf.keras.utils.plot_model(model, to_file=\"model.png\")"
   ]
  },
  {
   "cell_type": "markdown",
   "metadata": {},
   "source": [
    "## Functional API\n",
    "\n",
    "* The Functional API is useful when you want to build a model with more complex (non-linear) topologies, including multiple inputs, multiple outputs, residual connections with non-sequential flows, and shared and reusable layers. Each layer is callable (with a tensor in input), and each layer returns a tensor as an output. "
   ]
  },
  {
   "cell_type": "code",
   "execution_count": 9,
   "metadata": {},
   "outputs": [],
   "source": [
    "import tensorflow as tf\n",
    "def build_model():\n",
    "    # variable-length sequence of integers\n",
    "    text_input_a = tf.keras.Input(shape=(None,), dtype='int32')\n",
    "    # variable-length sequence of integers\n",
    "    text_input_b = tf.keras.Input(shape=(None,), dtype='int32')\n",
    "    # Embedding for 1000 unique words mapped to 128-dimensional vectors\n",
    "    shared_embedding = tf.keras.layers.Embedding(1000, 128)\n",
    "    # We reuse the same layer to encode both inputs\n",
    "    encoded_input_a = shared_embedding(text_input_a)\n",
    "    encoded_input_b = shared_embedding(text_input_b)\n",
    "    # two logistic predictions at the end\n",
    "    prediction_a = tf.keras.layers.Dense(1, activation='sigmoid',\\\n",
    "name='prediction_a')(encoded_input_a)\n",
    "    prediction_b = tf.keras.layers.Dense(1, activation='sigmoid',\\\n",
    " name='prediction_b')(encoded_input_b)\n",
    "    # this model has 2 inputs, and 2 outputs\n",
    "    # in the middle we have a shared model\n",
    "    model = tf.keras.Model(inputs=[text_input_a, text_input_b], \n",
    "    outputs=[prediction_a, prediction_b])\n",
    "    tf.keras.utils.plot_model(model, to_file=\"shared_model.png\")\n",
    "    return model\n",
    "model = build_model()\n"
   ]
  },
  {
   "cell_type": "code",
   "execution_count": 10,
   "metadata": {},
   "outputs": [
    {
     "data": {
      "image/png": "[encoded data removed]",
      "text/plain": [
       "<IPython.core.display.Image object>"
      ]
     },
     "execution_count": 10,
     "metadata": {},
     "output_type": "execute_result"
    }
   ],
   "source": [
    "tf.keras.utils.plot_model(model, to_file=\"model.png\")"
   ]
  },
  {
   "cell_type": "markdown",
   "metadata": {},
   "source": [
    "## 3. Model subclassing"
   ]
  },
  {
   "cell_type": "code",
   "execution_count": 11,
   "metadata": {},
   "outputs": [],
   "source": [
    "class MyLayer(tf.keras.layers.Layer):\n",
    "    def __init__(self, output_dim, **kwargs):\n",
    "        self.output_dim = output_dim\n",
    "        super(MyLayer, self).__init__(**kwargs)\n",
    "    def build(self, input_shape):\n",
    "        # Create a trainable weight variable for this layer.\n",
    "        self.kernel = self.add_weight(name='kernel',\n",
    "                                  shape=(input_shape[1], self.output_dim),\n",
    "                                  initializer='uniform',\n",
    "                                  trainable=True)\n",
    "    def call(self, inputs):\n",
    "        # Do the multiplication and return \n",
    "        return tf.matmul(inputs, self.kernel)\n"
   ]
  },
  {
   "cell_type": "code",
   "execution_count": 12,
   "metadata": {},
   "outputs": [],
   "source": [
    "model = tf.keras.Sequential([\n",
    "    MyLayer(20),\n",
    "    tf.keras.layers.Activation('softmax')])"
   ]
  },
  {
   "cell_type": "code",
   "execution_count": 13,
   "metadata": {},
   "outputs": [
    {
     "data": {
      "image/png": "[encoded data removed]",
      "text/plain": [
       "<IPython.core.display.Image object>"
      ]
     },
     "execution_count": 13,
     "metadata": {},
     "output_type": "execute_result"
    }
   ],
   "source": [
    "tf.keras.utils.plot_model(model, to_file=\"model.png\")"
   ]
  },
  {
   "cell_type": "markdown",
   "metadata": {},
   "source": [
    "## Callbacks\n",
    "\n",
    "Callbacks are objects passed to a model to extend or modify behaviors during training. There are a few useful callbacks that are commonly used in tf.keras:\n",
    "\n",
    "\n",
    "* tf.keras.callbacks.ModelCheckpoint: This feature is used to save checkpoints of your model at regular intervals and recover in case of problems.\n",
    "\n",
    "\n",
    "* tf.keras.callbacks.LearningRateScheduler: This feature is used to dynamically change the learning rate during optimization.\n",
    "\n",
    "\n",
    "* tf.keras.callbacks.EarlyStopping: This feature is used to interrupt training when validation performance has stopped improving after a while.\n",
    "\n",
    "\n",
    "* tf.keras.callbacks.TensorBoard: This feature is used to monitor the model's behavior using TensorBoard."
   ]
  },
  {
   "cell_type": "markdown",
   "metadata": {},
   "source": [
    "## Model Save and load\n",
    "\n",
    "* Save weights to a Tensorflow Checkpoint file\n",
    "\n",
    "    model.save_weights('./weights/my_model')\n",
    "    \n",
    "    \n",
    "* Save weights to a HDF5 file\n",
    "\n",
    "    model.save_weights('my_model.h5', save_format='h5')\n",
    "\n",
    "\n",
    "* Weights are easily loaded with Restore the model's state\n",
    "\n",
    "    model.load_weights(file_path)    \n",
    "    \n",
    "    \n",
    "In addition to weights, a model can be serialized in JSON with:\n",
    "\n",
    "```Python\n",
    "json_string = model.to_json()  # save \n",
    "model = tf.keras.models.model_from_json(json_string) # restore    \n",
    "```\n",
    "* If you want to save a model together with its weights and the optimization parameters, then you simply use:\n",
    "\n",
    "```Python\n",
    "model.save('my_model.h5') # save\n",
    "model = tf.keras.models.load_model('my_model.h5') #restore\n",
    "```"
   ]
  },
  {
   "cell_type": "markdown",
   "metadata": {},
   "source": [
    "# Training from tf.data.datasets\n",
    "\n",
    "#### Package : tensorflow-datasets"
   ]
  },
  {
   "cell_type": "code",
   "execution_count": 14,
   "metadata": {},
   "outputs": [],
   "source": [
    "import tensorflow as tf\n",
    "import tensorflow_datasets as tfds"
   ]
  },
  {
   "cell_type": "code",
   "execution_count": 15,
   "metadata": {},
   "outputs": [
    {
     "name": "stdout",
     "output_type": "stream",
     "text": [
      "['abstract_reasoning', 'aeslc', 'aflw2k3d', 'amazon_us_reviews', 'arc', 'bair_robot_pushing_small', 'big_patent', 'bigearthnet', 'billsum', 'binarized_mnist', 'binary_alpha_digits', 'c4', 'caltech101', 'caltech_birds2010', 'caltech_birds2011', 'cars196', 'cassava', 'cats_vs_dogs', 'celeb_a', 'celeb_a_hq', 'chexpert', 'cifar10', 'cifar100', 'cifar10_1', 'cifar10_corrupted', 'citrus_leaves', 'cityscapes', 'civil_comments', 'clevr', 'cmaterdb', 'cnn_dailymail', 'coco', 'coil100', 'colorectal_histology', 'colorectal_histology_large', 'cos_e', 'curated_breast_imaging_ddsm', 'cycle_gan', 'deep_weeds', 'definite_pronoun_resolution', 'diabetic_retinopathy_detection', 'dmlab', 'downsampled_imagenet', 'dsprites', 'dtd', 'duke_ultrasound', 'dummy_dataset_shared_generator', 'dummy_mnist', 'emnist', 'esnli', 'eurosat', 'fashion_mnist', 'flic', 'flores', 'food101', 'gap', 'gigaword', 'glue', 'groove', 'higgs', 'horses_or_humans', 'i_naturalist2017', 'image_label_folder', 'imagenet2012', 'imagenet2012_corrupted', 'imagenet_resized', 'imagenette', 'imdb_reviews', 'iris', 'kitti', 'kmnist', 'lfw', 'lm1b', 'lost_and_found', 'lsun', 'malaria', 'math_dataset', 'mnist', 'mnist_corrupted', 'movie_rationales', 'moving_mnist', 'multi_news', 'multi_nli', 'multi_nli_mismatch', 'newsroom', 'nsynth', 'omniglot', 'open_images_v4', 'oxford_flowers102', 'oxford_iiit_pet', 'para_crawl', 'patch_camelyon', 'pet_finder', 'places365_small', 'plant_leaves', 'plant_village', 'plantae_k', 'quickdraw_bitmap', 'reddit_tifu', 'resisc45', 'rock_paper_scissors', 'rock_you', 'scan', 'scene_parse150', 'scicite', 'scientific_papers', 'shapes3d', 'smallnorb', 'snli', 'so2sat', 'squad', 'stanford_dogs', 'stanford_online_products', 'starcraft_video', 'sun397', 'super_glue', 'svhn_cropped', 'ted_hrlr_translate', 'ted_multi_translate', 'tf_flowers', 'the300w_lp', 'titanic', 'trivia_qa', 'uc_merced', 'ucf101', 'vgg_face2', 'visual_domain_decathlon', 'voc', 'wider_face', 'wikihow', 'wikipedia', 'wmt14_translate', 'wmt15_translate', 'wmt16_translate', 'wmt17_translate', 'wmt18_translate', 'wmt19_translate', 'wmt_t2t_translate', 'wmt_translate', 'xnli', 'xsum']\n"
     ]
    }
   ],
   "source": [
    "# see all registered datasets\n",
    "builders  = tfds.list_builders()\n",
    "print(builders)"
   ]
  },
  {
   "cell_type": "code",
   "execution_count": 16,
   "metadata": {},
   "outputs": [
    {
     "name": "stdout",
     "output_type": "stream",
     "text": [
      "tfds.core.DatasetInfo(\n",
      "    name='mnist',\n",
      "    version=3.0.0,\n",
      "    description='The MNIST database of handwritten digits.',\n",
      "    homepage='http://yann.lecun.com/exdb/mnist/',\n",
      "    features=FeaturesDict({\n",
      "        'image': Image(shape=(28, 28, 1), dtype=tf.uint8),\n",
      "        'label': ClassLabel(shape=(), dtype=tf.int64, num_classes=10),\n",
      "    }),\n",
      "    total_num_examples=70000,\n",
      "    splits={\n",
      "        'test': 10000,\n",
      "        'train': 60000,\n",
      "    },\n",
      "    supervised_keys=('image', 'label'),\n",
      "    citation=\"\"\"@article{lecun2010mnist,\n",
      "      title={MNIST handwritten digit database},\n",
      "      author={LeCun, Yann and Cortes, Corinna and Burges, CJ},\n",
      "      journal={ATT Labs [Online]. Available: http://yann. lecun. com/exdb/mnist},\n",
      "      volume={2},\n",
      "      year={2010}\n",
      "    }\"\"\",\n",
      "    redistribution_info=,\n",
      ")\n",
      "\n"
     ]
    }
   ],
   "source": [
    "# load a dataset with its metadata\n",
    "\n",
    "data,info = tfds.load(\"mnist\",with_info=True)\n",
    "print(info)"
   ]
  },
  {
   "cell_type": "markdown",
   "metadata": {},
   "source": [
    "### Create a datset from numpy array"
   ]
  },
  {
   "cell_type": "code",
   "execution_count": 17,
   "metadata": {},
   "outputs": [
    {
     "name": "stdout",
     "output_type": "stream",
     "text": [
      "[ 0  1  2  3  4  5  6  7  8  9 10 11 12 13 14 15 16 17 18 19 20 21 22 23\n",
      " 24 25 26 27 28 29 30 31 32 33 34 35 36 37 38 39 40 41 42 43 44 45 46 47\n",
      " 48 49 50 51 52 53 54 55 56 57 58 59 60 61 62 63 64 65 66 67 68 69 70 71\n",
      " 72 73 74 75 76 77 78 79 80 81 82 83 84 85 86 87 88 89 90 91 92 93 94 95\n",
      " 96 97 98 99]\n"
     ]
    }
   ],
   "source": [
    "import tensorflow as tf\n",
    "import numpy as np\n",
    "\n",
    "num_items = 100\n",
    "num_list = np.arange(num_items)\n",
    "print(num_list)"
   ]
  },
  {
   "cell_type": "code",
   "execution_count": 18,
   "metadata": {},
   "outputs": [
    {
     "data": {
      "text/plain": [
       "<TensorSliceDataset shapes: (), types: tf.int64>"
      ]
     },
     "execution_count": 18,
     "metadata": {},
     "output_type": "execute_result"
    }
   ],
   "source": [
    "# create the dataset from numpy array\n",
    "\n",
    "num_list_dataset = tf.data.Dataset.from_tensor_slices(num_list)\n",
    "num_list_dataset"
   ]
  },
  {
   "cell_type": "markdown",
   "metadata": {},
   "source": [
    "### Download a dataset, shuffle and batch the data"
   ]
  },
  {
   "cell_type": "code",
   "execution_count": 19,
   "metadata": {},
   "outputs": [
    {
     "name": "stdout",
     "output_type": "stream",
     "text": [
      "\u001b[1mDownloading and preparing dataset imdb_reviews (80.23 MiB) to /Users/bat/tensorflow_datasets/imdb_reviews/plain_text/1.0.0...\u001b[0m\n"
     ]
    },
    {
     "data": {
      "application/vnd.jupyter.widget-view+json": {
       "model_id": "d887d6e00eda43618c07cd38bae276f9",
       "version_major": 2,
       "version_minor": 0
      },
      "text/plain": [
       "HBox(children=(IntProgress(value=1, bar_style='info', description='Dl Completed...', max=1, style=ProgressStyl…"
      ]
     },
     "metadata": {},
     "output_type": "display_data"
    },
    {
     "data": {
      "application/vnd.jupyter.widget-view+json": {
       "model_id": "f4baf3a6a003405d926658f24dfeb403",
       "version_major": 2,
       "version_minor": 0
      },
      "text/plain": [
       "HBox(children=(IntProgress(value=1, bar_style='info', description='Dl Size...', max=1, style=ProgressStyle(des…"
      ]
     },
     "metadata": {},
     "output_type": "display_data"
    },
    {
     "name": "stdout",
     "output_type": "stream",
     "text": [
      "\n",
      "\n",
      "\n",
      "\n"
     ]
    },
    {
     "data": {
      "application/vnd.jupyter.widget-view+json": {
       "model_id": "",
       "version_major": 2,
       "version_minor": 0
      },
      "text/plain": [
       "HBox(children=(IntProgress(value=1, bar_style='info', max=1), HTML(value='')))"
      ]
     },
     "metadata": {},
     "output_type": "display_data"
    },
    {
     "name": "stdout",
     "output_type": "stream",
     "text": [
      "\r",
      "Shuffling and writing examples to /Users/bat/tensorflow_datasets/imdb_reviews/plain_text/1.0.0.incompleteNK35AG/imdb_reviews-train.tfrecord\n"
     ]
    },
    {
     "data": {
      "application/vnd.jupyter.widget-view+json": {
       "model_id": "5aa9fcde68c84e07ac58dd9bdaa640da",
       "version_major": 2,
       "version_minor": 0
      },
      "text/plain": [
       "HBox(children=(IntProgress(value=0, max=25000), HTML(value='')))"
      ]
     },
     "metadata": {},
     "output_type": "display_data"
    },
    {
     "name": "stdout",
     "output_type": "stream",
     "text": [
      "\r"
     ]
    },
    {
     "data": {
      "application/vnd.jupyter.widget-view+json": {
       "model_id": "",
       "version_major": 2,
       "version_minor": 0
      },
      "text/plain": [
       "HBox(children=(IntProgress(value=1, bar_style='info', max=1), HTML(value='')))"
      ]
     },
     "metadata": {},
     "output_type": "display_data"
    },
    {
     "name": "stdout",
     "output_type": "stream",
     "text": [
      "\r",
      "Shuffling and writing examples to /Users/bat/tensorflow_datasets/imdb_reviews/plain_text/1.0.0.incompleteNK35AG/imdb_reviews-test.tfrecord\n"
     ]
    },
    {
     "data": {
      "application/vnd.jupyter.widget-view+json": {
       "model_id": "b7d9d59aa5ba4453a4d95c43bac09d6e",
       "version_major": 2,
       "version_minor": 0
      },
      "text/plain": [
       "HBox(children=(IntProgress(value=0, max=25000), HTML(value='')))"
      ]
     },
     "metadata": {},
     "output_type": "display_data"
    },
    {
     "name": "stdout",
     "output_type": "stream",
     "text": [
      "\r"
     ]
    },
    {
     "data": {
      "application/vnd.jupyter.widget-view+json": {
       "model_id": "",
       "version_major": 2,
       "version_minor": 0
      },
      "text/plain": [
       "HBox(children=(IntProgress(value=1, bar_style='info', max=1), HTML(value='')))"
      ]
     },
     "metadata": {},
     "output_type": "display_data"
    },
    {
     "name": "stdout",
     "output_type": "stream",
     "text": [
      "\r",
      "Shuffling and writing examples to /Users/bat/tensorflow_datasets/imdb_reviews/plain_text/1.0.0.incompleteNK35AG/imdb_reviews-unsupervised.tfrecord\n"
     ]
    },
    {
     "data": {
      "application/vnd.jupyter.widget-view+json": {
       "model_id": "4e507a8d06694361a0b8b28fdc4c2f58",
       "version_major": 2,
       "version_minor": 0
      },
      "text/plain": [
       "HBox(children=(IntProgress(value=0, max=50000), HTML(value='')))"
      ]
     },
     "metadata": {},
     "output_type": "display_data"
    },
    {
     "name": "stdout",
     "output_type": "stream",
     "text": [
      "\u001b[1mDataset imdb_reviews downloaded and prepared to /Users/bat/tensorflow_datasets/imdb_reviews/plain_text/1.0.0. Subsequent calls will reuse this data.\u001b[0m\n",
      "\r"
     ]
    }
   ],
   "source": [
    "datasets, info = tfds.load(\"imdb_reviews\",with_info= True , as_supervised=True)"
   ]
  },
  {
   "cell_type": "code",
   "execution_count": 20,
   "metadata": {},
   "outputs": [
    {
     "data": {
      "text/plain": [
       "{'test': <DatasetV1Adapter shapes: ((), ()), types: (tf.string, tf.int64)>,\n",
       " 'train': <DatasetV1Adapter shapes: ((), ()), types: (tf.string, tf.int64)>,\n",
       " 'unsupervised': <DatasetV1Adapter shapes: ((), ()), types: (tf.string, tf.int64)>}"
      ]
     },
     "execution_count": 20,
     "metadata": {},
     "output_type": "execute_result"
    }
   ],
   "source": [
    "datasets"
   ]
  },
  {
   "cell_type": "code",
   "execution_count": 21,
   "metadata": {},
   "outputs": [],
   "source": [
    "train_dataset = datasets['train']"
   ]
  },
  {
   "cell_type": "code",
   "execution_count": 22,
   "metadata": {},
   "outputs": [],
   "source": [
    "train_dataset = train_dataset.batch(5).shuffle(50).take(2)"
   ]
  },
  {
   "cell_type": "code",
   "execution_count": 23,
   "metadata": {
    "scrolled": false
   },
   "outputs": [
    {
     "name": "stdout",
     "output_type": "stream",
     "text": [
      "(<tf.Tensor: shape=(5,), dtype=string, numpy=\n",
      "array([b\"With a minimal budget, a running time of eight minutes and a great amount of imagination, Nacho Vigalondo has achieved one of the most moving shorts I've ever seen. The subtlety of the screenplay is really remarkable, since it doesn't give the ending away until the very last moment.<br /><br />Don't let anybody tell you what the short is about, since you'll be able to enjoy it a lot more. Nacho Vigalondo is the discovery of the year for his one-man show: directing, writing and acting in this formidable short is the most remarkable effort I've seen in years. Also pay attention to the performance of Marta Belenguer, her reaction shots are incredible.<br /><br />Overall rating: 8/10\",\n",
      "       b\"I was not entirely impressed by this film. It was originally named Sin Eater and should have stayed that way considering that is all that was talked about for the last half of the film. I'm not even sure what the first 20 minutes of the film had to do with any of the rest of it. It was very slow and what was with picking Robocop (Peter Weller) as one of the main actors. That was a sad point.<br /><br />All in all I would say check this out if you are into things dealing with the Catholic religion but don't expect an Exorcist or Stigmata from this film. It will surely flop after a few days and word gets out.\",\n",
      "       b'Our Song is a marvelous example of passionate, movie making at its aesthetic best. It is, in fact, a genuine wonder of a movie; a penetrating and insightful work of art that chronicles the lives of three young inner city (Crown Heights, Brooklyn) girls during a particular summer in their lives when the perplexities of their approaching adulthood will compel each of them to make a number of difficult, life altering choices that will likely re-define who each of them is, as well as how they will continue to relate to one another in years to come.<br /><br />Jim McKay\\'s writing/direction is graceful and uncluttered. There is no sappy, gratuitous sentimentality nor are there clich\\xc3\\xa9 ridden solutions in this film. What we see here seems, at times, to be heart breakingly real. There is a naturalism - a credibility, if you will - in Our Song that surpasses that of other giants in this genre, including American Graffiti and Cooley High.<br /><br />Much of the credit for the film\\'s spirit goes to its principle actors. The combined presence of Melisa Martinez (Maria), Kerry Washington (Lanisha), and Anna Simpson (Joycelyn) is dazzlingly powerful. It would be easy - and, of course, blatantly obtuse - to dismiss, as some apparently have, the performances of these three as apathetic or unemotional. In fact, their quiet charm, their instinctive sense of dignity and their raw, sometimes unconventional intelligence, throughout the film, are absolutely riveting. One would have to be completely \"out of touch\" with, or completely indifferent to, the behavior of teenagers to miss the resounding authenticity in what these three young ladies bring to the screen. Likewise, the supporting cast, particularly Marlene Forte as Lanisha\\'s mother, compliments the work of the three girls as well as the overall tone of the film.<br /><br />Our Song is a film not to be missed - by anyone of any age.',\n",
      "       b\"Let me make one thing clear\\xc2\\x85.for the most part, the mentality of those who run the show in Hollywood frankly p*sses me right off in general and even more specifically in relation to its treatment of much loved, iconic characters from the pages of comic books. Why? Well let's take a typical Hollywood executive board meeting scenario to illustrate shall we\\xc2\\x85..<br /><br />Executive no.1 'Hey there's lots of dollars to be gleaned from superhero flicks these days.' <br /><br />Executive no.2 'Good point, let's make one with haste then! \\xc2\\x96 We'll do a lucky dip in a hat and pick out a superhero at random to base a film upon!' (The dip takes place and a famous superheroes name is pulled out) <br /><br />Executive no.1 'Great! Now who can we get to play the part?' <br /><br />Executive no.2 'Who's a big box office star at the moment?' <br /><br />Executive no.1 '*name of big actor* is the in thing this week.' <br /><br />Executive no.2 'But does he really suit the role? I mean he doesn't resemble the character whatsoever.' <br /><br />Executive no.1 'Who cares?! He's a big name; We'll make the film with him in it anyway.' <br /><br />Executive no.2 'You're quite right! And besides we'll fill the entire film so chock full of glitzy special effects to appease the moronic masses that no one will ever question it anyway!'<br /><br />The above scenario clearly illustrates one of the reasons I generally loath most modern superhero movies. All style, no substance and simply pathetic casting of the iconic leads. Of course to be equitable, there are exceptions to the above rule; when Hollywood does get it right \\xc2\\x96 take the casting of the original (and still easily the best!) Superman; Christopher Reeve and more recently Patrick Stewart and Sir Ian McKellen in the X-Men films.<br /><br />But back to the general negative traits displayed by Hollywood today\\xc2\\x85..wouldn't it be wonderful if our studio executives were to ALWAYS choose actors who actually suited the roles? Well in this less than ideal world, one filmmaker does just this believe it or not, by casting actors based upon their genuine resemblance to their comic book counterparts. His name is Sandy Collora. Sadly (but typically) Hollywood has not as of yet allowed Collora to direct a full length film but luckily for us, he has given us tantalizing glimpses of what the finished outcome would likely look like in the form of two (as of yet) famous super hero short features. One is the superb Batman:Dead End and the other is this mock trailer for an entirely fictitious film called Worlds Finest.<br /><br />Well, let's not mince our words here \\xc2\\x96 this is absolutely awesome stuff!<br /><br />The casting of Mr. Universe winner and male model Michael O'Hearn, (who looked similarly awesome but was utterly wasted in the lackluster Barbarian) makes for the most perfect choice to play the iconic man of steel. In fact, in terms of physical resemblance, there has undoubtedly never been a closer approximation to the comic character.<br /><br />Added to this Clark Bartram is back fresh from his splendid portrayal as the Dark Knight in Batman:Dead End; Again, yet another hugely judicious piece of casting!<br /><br />What can I say? \\xc2\\x96 If only this was indeed a real, full length film! Hollywood studio executives \\xc2\\x96 take note! THIS is how it should be done!<br /><br />As a final note, I am once again intrigued by the vastly split reactions this short film has evoked from fans. Tellingly, the most acerbic and vehemently adverse reactions against it clearly come once more (as similarly with Batman: Dead End) from a younger, less cinematically experienced audience; a fact betrayed by their somewhat grammatically primitive rants and liberal usage of base diction. Such an unfortunate state of closed mindedness is indeed a sad phenomenon albeit one that our aforementioned studio executives in Hollywood, will no doubt derive great satisfaction from. After all, these very same misguided individuals are in all probability the exact same sort of CGI addicted, popcorn stuffing imbeciles that revel in the majority of crap that Hollywood churns out by the deluge these days.\",\n",
      "       b\"S.I.C.K. really stands for So Incredibly Crappy i Killed myself. There was absolutely no acting to speak of. The best part of the whole production was the art work on the cover of the box.The budgeting of this movie was sufficient. The filming was sub sesame street. The production looks like that of the underground filming for mob hits. The props used in this movie were stolen from a clothing store. The ending was so predictable you should fast forward to the last 5 minutes and laugh. If there is a book out there for this movie I'm sure it's better. I would avoid this at all costs. I did enjoy the intimate scenes they made the whole movie worth it. just kidding.\"],\n",
      "      dtype=object)>, <tf.Tensor: shape=(5,), dtype=int64, numpy=array([1, 0, 1, 1, 0])>)\n"
     ]
    }
   ],
   "source": [
    "for data in train_dataset:\n",
    "    print(data)\n",
    "    break"
   ]
  },
  {
   "cell_type": "markdown",
   "metadata": {},
   "source": [
    "### Important function of tfds\n",
    "\n",
    "1. Creation:\n",
    "    * Via from_tensor_slices(), which accepts individual (or multiple) NumPy (or tensors) and supports batches\n",
    "    * Via from_tensors(), which is similar to the above but it does not support batches\n",
    "    * Via from_generator(), which takes input from a generator function\n",
    "\n",
    "\n",
    "2. Transformation:\n",
    "    * Via batch(), which sequentially divides the dataset by the specified size\n",
    "    * Via repeat(), which duplicates the data\n",
    "    * Via shuffle(), which randomly shuffles the data\n",
    "    * Via map(), which applies a function to the data\n",
    "    * Via filter(), which applies a function to filter the data\n",
    "\n",
    "\n",
    "3. Iterators:\n",
    "    * Via next_batch = iterator.get_next()"
   ]
  },
  {
   "cell_type": "markdown",
   "metadata": {},
   "source": [
    "# Estimators\n",
    "\n",
    "In addition to the direct graph computation and to the tf.keras higher-level APIs, TensorFlow 1.x and 2.x have an additional set of higher-level APIs called **Estimators**.\n",
    "\n",
    "Another way to build or to use prebuilt bricks. A longer answer is that they are highly efficient learning models for large-scale production-ready environments, which can be trained on single machines or on distributed multi-servers, and they can run on CPUs, GPUs, or TPUs without recoding your model. These models include Linear Classifiers, Deep Learning Classifiers, Gradient Boosted Trees, and many more, "
   ]
  },
  {
   "cell_type": "markdown",
   "metadata": {},
   "source": [
    "\n",
    "* Build a DNN with 2 hidden layers. And 10 nodes in each hidden layers and 3 classes\n",
    "\n",
    "```Python\n",
    "\n",
    "selected_columns = []\n",
    "classifier = tf.estimator.DNNClassifier(feature_columns=selected_columns,hidden_units = [10,10],n_classes=3)\n",
    "\n",
    "\n",
    "\n",
    "* Fetch the data\n",
    "\n",
    "(train_X,train_y), (test_X, test_y) = load_data()\n",
    "my_columns = []\n",
    "\n",
    "for key in train_X.keys():\n",
    "    my_columns.append(tf.feature_column.numeric_column(key=key))\n",
    "    \n",
    "```\n",
    "\n",
    "\n",
    "* Efficiency Estimators should be trained using tf.Datasets as input. Here is an example where MNIST is loaded, scaled, shuffled, and batched:"
   ]
  },
  {
   "cell_type": "code",
   "execution_count": 24,
   "metadata": {},
   "outputs": [
    {
     "name": "stdout",
     "output_type": "stream",
     "text": [
      "<DatasetV1Adapter shapes: ((None, 28, 28, 1), (None,)), types: (tf.float32, tf.int64)>\n",
      "<DatasetV1Adapter shapes: ((None, 28, 28, 1), (None,)), types: (tf.float32, tf.int64)>\n"
     ]
    }
   ],
   "source": [
    "# Example\n",
    "\n",
    "import tensorflow as tf\n",
    "import tensorflow_datasets as tfds\n",
    "\n",
    "BUFFER_SIZE = 10000\n",
    "BATCH_SIZE = 64\n",
    "\n",
    "\n",
    "def input_fn(mode):\n",
    "    dataset, info = tfds.load(name = 'mnist',with_info = True,as_supervised = True)\n",
    "    mnist_dataset = (dataset['train'] if mode == tf.estimator.ModeKeys.TRAIN else dataset['test'])\n",
    "    \n",
    "    def scale(image,label):\n",
    "        image = tf.cast(image,tf.float32)\n",
    "        image /= 255.\n",
    "        return image, label\n",
    "    \n",
    "    return mnist_dataset.map(scale).shuffle(BUFFER_SIZE).batch(BATCH_SIZE)\n",
    "\n",
    "test = input_fn('test')\n",
    "train = input_fn(tf.estimator.ModeKeys.TRAIN)\n",
    "\n",
    "print(test)\n",
    "print(train)\n",
    "\n"
   ]
  },
  {
   "cell_type": "markdown",
   "metadata": {},
   "source": [
    "```Python\n",
    "tf.estimator.train_and_evaluate(classifier,train_spec=tf.estimator.TrainSpec(input_fn=input_fn),\n",
    "                               eval_spec=tf.estimator.EvalSpec(input_fn=input_fn))\n",
    "\n",
    "```"
   ]
  },
  {
   "cell_type": "markdown",
   "metadata": {},
   "source": [
    "* TensorFlow contains Estimators for both regression and classification.\n",
    "\n",
    "\n",
    "* Estimators fully support distributed training while tf.keras has limited support. \n",
    "\n",
    "\n",
    "* Given this, a possible workaround is to transform tf.keras models into Estimators with tf.keras.estimator.model_to_estimator() and then use the full distributed training support."
   ]
  },
  {
   "cell_type": "markdown",
   "metadata": {},
   "source": [
    "# Custom training\n",
    "\n",
    "TensorFlow can compute gradients on our behalf (automatic differentiation) and this makes it extremely easy to develop machine learning models. \n",
    "\n",
    "There are multiple ways of computing gradients."
   ]
  },
  {
   "cell_type": "markdown",
   "metadata": {},
   "source": [
    "###  1. tf.GradientTape() :\n",
    "    This class record operation for automatic differentiation. \n",
    "    \n",
    "    **Percistent = True ** (Multiple calls can be made to the gradient() method on this object)\n",
    "    \n",
    "    "
   ]
  },
  {
   "cell_type": "code",
   "execution_count": 25,
   "metadata": {},
   "outputs": [
    {
     "name": "stdout",
     "output_type": "stream",
     "text": [
      "256.0\n",
      "8.0\n"
     ]
    }
   ],
   "source": [
    "import tensorflow as tf\n",
    "x = tf.constant(4.0)\n",
    "\n",
    "with tf.GradientTape(persistent= True) as g:\n",
    "    g.watch(x)\n",
    "    y = x * x\n",
    "    z = y * y\n",
    "\n",
    "dz_dx = g.gradient(z,x)\n",
    "\n",
    "# 4x^3\n",
    "print(dz_dx.numpy())\n",
    "\n",
    "# 2x\n",
    "dy_dx = g.gradient(y,x)\n",
    "print(dy_dx.numpy())\n",
    "\n",
    "del g"
   ]
  },
  {
   "cell_type": "markdown",
   "metadata": {},
   "source": [
    "###  2. tf.gradient_function :\n",
    "\n",
    "    This return a function that computes the derivatives of its input function paramets with respect to its arguments.\n",
    "\n",
    "### 3. tf.value_and_gradients_function(): \n",
    "\n",
    "This returns the value from the input function in addition to the list of derivatives of the input function with respect to its arguments.\n",
    "\n",
    "\n",
    "### 4. tf.implicit_gradients(): \n",
    "\n",
    "This computes the gradients of the outputs of the input function with regards to all trainable variables these outputs depend on.\n"
   ]
  },
  {
   "cell_type": "markdown",
   "metadata": {},
   "source": [
    "\n",
    "``` Python\n",
    "@tf.function\n",
    "def train_step(inputs,labels):\n",
    "    with tf.GradientTape as tape:\n",
    "        predictions = model(inputs, training = True)\n",
    "        \n",
    "        regularized_loss = r_l\n",
    "        pred_loss = p_l\n",
    "        \n",
    "        total_losss = regularized_loss + pred_loss\n",
    "        \n",
    "    gradients = tape.gradients(total_loss, model.trainable_variables)\n",
    "    optimizer.apply_gradients(zip(gradients,model.trainable_variables))\n",
    "    \n",
    "for epoch in range(epochs) :\n",
    "    for inputs,labels in train_data:\n",
    "        train_step(inputs,labels)\n",
    "    print('Finished epoch : ', epoch)\n",
    "    \n",
    "```    "
   ]
  },
  {
   "cell_type": "markdown",
   "metadata": {},
   "source": [
    "# Working with multiple GPUs\n",
    "\n",
    "If we want to have synchronous distributed training on multiple GPUs on one machine, there are two things that we need to do: \n",
    "1. We need to load the data in a way that will be distributed into the GPUs.\n",
    "\n",
    "\n",
    "2. We need to distribute some computations into the GPUs too:"
   ]
  },
  {
   "cell_type": "code",
   "execution_count": 26,
   "metadata": {},
   "outputs": [
    {
     "name": "stdout",
     "output_type": "stream",
     "text": [
      "1048576\n",
      "(1048576, 1)\n"
     ]
    }
   ],
   "source": [
    "import tensorflow as tf\n",
    "import numpy as np\n",
    "import tensorflow_datasets as tfds\n",
    "from tensorflow import keras\n",
    "\n",
    "n_examples = 1024 * 1024\n",
    "n_features = 10\n",
    "batch_size = 256\n",
    "\n",
    "x = np.random.random((n_examples,n_features))\n",
    "y = np.random.randint(2,size = (n_examples,1))\n",
    "x = tf.cast(x,tf.float32)\n",
    "\n",
    "print(x.shape[0])\n",
    "print(y.shape)\n",
    "dataset = tf.data.Dataset.from_tensor_slices((x,y))\n",
    "dataset = dataset.shuffle(buffer_size = n_examples).batch(batch_size)"
   ]
  },
  {
   "cell_type": "markdown",
   "metadata": {},
   "source": [
    "* In order to distribute some computations to GPUs, we instantiate a **distribution = tf.distribute.MirroredStrategy()** object, which supports synchronous distributed training on multiple GPUs on one machine. Then, we move the creation and compilation of the Keras model inside the strategy.scope(). \n",
    "\n",
    "* each variable in the model is mirrored across all the replicas. "
   ]
  },
  {
   "cell_type": "code",
   "execution_count": 27,
   "metadata": {},
   "outputs": [
    {
     "name": "stdout",
     "output_type": "stream",
     "text": [
      "WARNING:tensorflow:There are non-GPU devices in `tf.distribute.Strategy`, not using nccl allreduce.\n"
     ]
    },
    {
     "name": "stderr",
     "output_type": "stream",
     "text": [
      "WARNING:tensorflow:There are non-GPU devices in `tf.distribute.Strategy`, not using nccl allreduce.\n"
     ]
    },
    {
     "name": "stdout",
     "output_type": "stream",
     "text": [
      "INFO:tensorflow:Using MirroredStrategy with devices ('/job:localhost/replica:0/task:0/device:CPU:0',)\n"
     ]
    },
    {
     "name": "stderr",
     "output_type": "stream",
     "text": [
      "INFO:tensorflow:Using MirroredStrategy with devices ('/job:localhost/replica:0/task:0/device:CPU:0',)\n"
     ]
    },
    {
     "ename": "NameError",
     "evalue": "name 'N_FEATURES' is not defined",
     "output_type": "error",
     "traceback": [
      "\u001b[0;31m---------------------------------------------------------------------------\u001b[0m",
      "\u001b[0;31mNameError\u001b[0m                                 Traceback (most recent call last)",
      "\u001b[0;32m<ipython-input-27-f6759c254528>\u001b[0m in \u001b[0;36m<module>\u001b[0;34m\u001b[0m\n\u001b[1;32m      5\u001b[0m \u001b[0;32mwith\u001b[0m \u001b[0mdistribution\u001b[0m\u001b[0;34m.\u001b[0m\u001b[0mscope\u001b[0m\u001b[0;34m(\u001b[0m\u001b[0;34m)\u001b[0m\u001b[0;34m:\u001b[0m\u001b[0;34m\u001b[0m\u001b[0;34m\u001b[0m\u001b[0m\n\u001b[1;32m      6\u001b[0m     \u001b[0mmodel\u001b[0m \u001b[0;34m=\u001b[0m \u001b[0mtf\u001b[0m\u001b[0;34m.\u001b[0m\u001b[0mkeras\u001b[0m\u001b[0;34m.\u001b[0m\u001b[0mSequential\u001b[0m\u001b[0;34m(\u001b[0m\u001b[0;34m)\u001b[0m\u001b[0;34m\u001b[0m\u001b[0;34m\u001b[0m\u001b[0m\n\u001b[0;32m----> 7\u001b[0;31m     \u001b[0mmodel\u001b[0m\u001b[0;34m.\u001b[0m\u001b[0madd\u001b[0m\u001b[0;34m(\u001b[0m\u001b[0mtf\u001b[0m\u001b[0;34m.\u001b[0m\u001b[0mkeras\u001b[0m\u001b[0;34m.\u001b[0m\u001b[0mlayers\u001b[0m\u001b[0;34m.\u001b[0m\u001b[0mDense\u001b[0m\u001b[0;34m(\u001b[0m\u001b[0;36m16\u001b[0m\u001b[0;34m,\u001b[0m \u001b[0mactivation\u001b[0m\u001b[0;34m=\u001b[0m\u001b[0;34m'relu'\u001b[0m\u001b[0;34m,\u001b[0m \u001b[0minput_shape\u001b[0m\u001b[0;34m=\u001b[0m\u001b[0;34m(\u001b[0m\u001b[0mN_FEATURES\u001b[0m\u001b[0;34m,\u001b[0m\u001b[0;34m)\u001b[0m\u001b[0;34m)\u001b[0m\u001b[0;34m)\u001b[0m\u001b[0;34m\u001b[0m\u001b[0;34m\u001b[0m\u001b[0m\n\u001b[0m\u001b[1;32m      8\u001b[0m     \u001b[0mmodel\u001b[0m\u001b[0;34m.\u001b[0m\u001b[0madd\u001b[0m\u001b[0;34m(\u001b[0m\u001b[0mtf\u001b[0m\u001b[0;34m.\u001b[0m\u001b[0mkeras\u001b[0m\u001b[0;34m.\u001b[0m\u001b[0mlayers\u001b[0m\u001b[0;34m.\u001b[0m\u001b[0mDense\u001b[0m\u001b[0;34m(\u001b[0m\u001b[0;36m1\u001b[0m\u001b[0;34m,\u001b[0m \u001b[0mactivation\u001b[0m\u001b[0;34m=\u001b[0m\u001b[0;34m'sigmoid'\u001b[0m\u001b[0;34m)\u001b[0m\u001b[0;34m)\u001b[0m\u001b[0;34m\u001b[0m\u001b[0;34m\u001b[0m\u001b[0m\n\u001b[1;32m      9\u001b[0m     \u001b[0moptimizer\u001b[0m \u001b[0;34m=\u001b[0m \u001b[0mtf\u001b[0m\u001b[0;34m.\u001b[0m\u001b[0mkeras\u001b[0m\u001b[0;34m.\u001b[0m\u001b[0moptimizers\u001b[0m\u001b[0;34m.\u001b[0m\u001b[0mSGD\u001b[0m\u001b[0;34m(\u001b[0m\u001b[0;36m0.2\u001b[0m\u001b[0;34m)\u001b[0m\u001b[0;34m\u001b[0m\u001b[0;34m\u001b[0m\u001b[0m\n",
      "\u001b[0;31mNameError\u001b[0m: name 'N_FEATURES' is not defined"
     ]
    }
   ],
   "source": [
    "# this is the distribution strategy\n",
    "distribution = tf.distribute.MirroredStrategy()\n",
    "\n",
    "# this piece of code is distributed to multiple GPUs\n",
    "with distribution.scope():\n",
    "    model = tf.keras.Sequential()\n",
    "    model.add(tf.keras.layers.Dense(16, activation='relu', input_shape=(N_FEATURES,)))\n",
    "    model.add(tf.keras.layers.Dense(1, activation='sigmoid'))\n",
    "    optimizer = tf.keras.optimizers.SGD(0.2)\n",
    "    model.compile(loss='binary_crossentropy', optimizer=optimizer)\n",
    "model.summary()\n",
    "# Optimize in the usual way but in reality you are using GPUs.\n",
    "model.fit(dataset, epochs=5, steps_per_epoch=10)"
   ]
  },
  {
   "cell_type": "markdown",
   "metadata": {},
   "source": [
    "Note that each batch of the given input is divided equally among the multiple GPUs. \n",
    "\n",
    "For instance, if using MirroredStrategy() with two GPUs, each batch of size 256 will be divided among the two GPUs, with each of them receiving 128 input examples for each step. \n",
    "\n",
    "In addition, note that each GPU will optimize on the received batches and the TensorFlow backend will combine all these independent optimizations on our behalf. \n",
    "\n",
    "Example Code at : (https://colab.research.google.com/drive/1mf-PK0a20CkObnT0hCl9VPEje1szhHat#scrollTo=wYar3A0vBVt)"
   ]
  },
  {
   "cell_type": "markdown",
   "metadata": {},
   "source": [
    "#  MultiWorkerMirroredStrategy\n",
    "\n",
    "This strategy implements synchronous distributed training across multiple workers, each one with potentially multiple GPUs. \n",
    "\n",
    "As of September 2019 the strategy works only with Estimators and it has experimental support for tf.keras. \n",
    "\n",
    "This strategy should be used if you are aiming at scaling beyond a single machine with high performance. \n",
    "\n",
    "Data must be loaded with tf.Dataset and shared across workers so that each worker can read a unique subset."
   ]
  },
  {
   "cell_type": "markdown",
   "metadata": {},
   "source": [
    "# Useful namespace info :\n",
    "\n",
    "* tf.keras.layers: Contains all symbols that were previously under tf.layers\n",
    "\n",
    "* tf.keras.losses: Contains all symbols that were previously under tf.losses\n",
    "\n",
    "* tf.keras.metrics: Contains all symbols that were previously under tf.metrics\n",
    "\n",
    "* tf.debugging: A new namespace for debugging\n",
    "\n",
    "* tf.dtypes: A new namespace for data types\n",
    "\n",
    "* tf.io: A new namespace for I/O\n",
    "\n",
    "* tf.quantization: A new namespace for quantization"
   ]
  },
  {
   "cell_type": "markdown",
   "metadata": {},
   "source": [
    "![image](tf.png)"
   ]
  },
  {
   "cell_type": "code",
   "execution_count": null,
   "metadata": {},
   "outputs": [],
   "source": []
  }
 ],
 "metadata": {
  "kernelspec": {
   "display_name": "Python 3",
   "language": "python",
   "name": "python3"
  },
  "language_info": {
   "codemirror_mode": {
    "name": "ipython",
    "version": 3
   },
   "file_extension": ".py",
   "mimetype": "text/x-python",
   "name": "python",
   "nbconvert_exporter": "python",
   "pygments_lexer": "ipython3",
   "version": "3.7.4"
  }
 },
 "nbformat": 4,
 "nbformat_minor": 2
}
