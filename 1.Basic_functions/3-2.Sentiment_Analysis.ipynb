{
 "cells": [
  {
   "cell_type": "code",
   "execution_count": 1,
   "metadata": {},
   "outputs": [],
   "source": [
    "import tensorflow as tf\n",
    "from tensorflow.keras import datasets, layers, models, preprocessing\n",
    "import tensorflow_datasets as tfds"
   ]
  },
  {
   "cell_type": "code",
   "execution_count": 2,
   "metadata": {},
   "outputs": [],
   "source": [
    "max_length = 200\n",
    "n_words = 10000\n",
    "dim_embedding  = 256\n",
    "epochs = 20\n",
    "batch_size = 256"
   ]
  },
  {
   "cell_type": "code",
   "execution_count": 3,
   "metadata": {},
   "outputs": [],
   "source": [
    "def load_data():\n",
    "    (X_train,y_train),(X_test, y_test) = datasets.imdb.load_data(num_words=n_words)\n",
    "    X_train = preprocessing.sequence.pad_sequences(X_train,maxlen=max_length)\n",
    "    X_test = preprocessing.sequence.pad_sequences(X_test,maxlen=max_length)\n",
    "    return (X_train, y_train), (X_test, y_test)"
   ]
  },
  {
   "cell_type": "code",
   "execution_count": 4,
   "metadata": {},
   "outputs": [],
   "source": [
    "def build_model():\n",
    "    model = models.Sequential()\n",
    "    model.add(layers.Embedding(n_words,dim_embedding,input_length=max_length))\n",
    "    model.add(layers.Dropout(0.3))\n",
    "    model.add(layers.GlobalAveragePooling1D())\n",
    "    model.add(layers.Dense(128,activation='relu'))\n",
    "    model.add(layers.Dropout(0.5))\n",
    "    model.add(layers.Dense(1,activation='sigmoid'))\n",
    "    return model"
   ]
  },
  {
   "cell_type": "code",
   "execution_count": 5,
   "metadata": {},
   "outputs": [],
   "source": [
    "(X_train, y_train), (X_test, y_test) = load_data()\n",
    "model = build_model()"
   ]
  },
  {
   "cell_type": "code",
   "execution_count": 6,
   "metadata": {},
   "outputs": [
    {
     "name": "stdout",
     "output_type": "stream",
     "text": [
      "Model: \"sequential\"\n",
      "_________________________________________________________________\n",
      "Layer (type)                 Output Shape              Param #   \n",
      "=================================================================\n",
      "embedding (Embedding)        (None, 200, 256)          2560000   \n",
      "_________________________________________________________________\n",
      "dropout (Dropout)            (None, 200, 256)          0         \n",
      "_________________________________________________________________\n",
      "global_average_pooling1d (Gl (None, 256)               0         \n",
      "_________________________________________________________________\n",
      "dense (Dense)                (None, 128)               32896     \n",
      "_________________________________________________________________\n",
      "dropout_1 (Dropout)          (None, 128)               0         \n",
      "_________________________________________________________________\n",
      "dense_1 (Dense)              (None, 1)                 129       \n",
      "=================================================================\n",
      "Total params: 2,593,025\n",
      "Trainable params: 2,593,025\n",
      "Non-trainable params: 0\n",
      "_________________________________________________________________\n"
     ]
    }
   ],
   "source": [
    "model.summary()"
   ]
  },
  {
   "cell_type": "code",
   "execution_count": 7,
   "metadata": {},
   "outputs": [
    {
     "data": {
      "text/html": [
       "\n",
       "      <iframe id=\"tensorboard-frame-88205ce9acd11cc2\" width=\"100%\" height=\"800\" frameborder=\"0\">\n",
       "      </iframe>\n",
       "      <script>\n",
       "        (function() {\n",
       "          const frame = document.getElementById(\"tensorboard-frame-88205ce9acd11cc2\");\n",
       "          const url = new URL(\"/\", window.location);\n",
       "          url.port = 6006;\n",
       "          frame.src = url;\n",
       "        })();\n",
       "      </script>\n",
       "  "
      ],
      "text/plain": [
       "<IPython.core.display.HTML object>"
      ]
     },
     "metadata": {},
     "output_type": "display_data"
    }
   ],
   "source": [
    "import os\n",
    "logs_base_dir = \"./logs\"\n",
    "os.makedirs(logs_base_dir, exist_ok=True)\n",
    "%load_ext tensorboard\n",
    "%tensorboard --logdir {logs_base_dir}"
   ]
  },
  {
   "cell_type": "code",
   "execution_count": 8,
   "metadata": {},
   "outputs": [],
   "source": [
    "import datetime\n",
    "logdir = os.path.join(logs_base_dir, datetime.datetime.now().strftime(\"%Y%m%d-%H%M%S\"))\n",
    "tensorboard_callback = tf.keras.callbacks.TensorBoard(logdir, histogram_freq=1)"
   ]
  },
  {
   "cell_type": "code",
   "execution_count": 9,
   "metadata": {},
   "outputs": [
    {
     "name": "stdout",
     "output_type": "stream",
     "text": [
      "Train on 25000 samples, validate on 25000 samples\n",
      "Epoch 1/20\n",
      "25000/25000 [==============================] - 33s 1ms/sample - loss: 0.5889 - accuracy: 0.7244 - val_loss: 0.3854 - val_accuracy: 0.8474\n",
      "Epoch 2/20\n",
      "25000/25000 [==============================] - 32s 1ms/sample - loss: 0.3030 - accuracy: 0.8792 - val_loss: 0.2958 - val_accuracy: 0.8765\n",
      "Epoch 3/20\n",
      "25000/25000 [==============================] - 32s 1ms/sample - loss: 0.2222 - accuracy: 0.9144 - val_loss: 0.2978 - val_accuracy: 0.8775\n",
      "Epoch 4/20\n",
      "25000/25000 [==============================] - 33s 1ms/sample - loss: 0.1839 - accuracy: 0.9320 - val_loss: 0.3188 - val_accuracy: 0.8691\n",
      "Epoch 5/20\n",
      "25000/25000 [==============================] - 38s 2ms/sample - loss: 0.1542 - accuracy: 0.9461 - val_loss: 0.3278 - val_accuracy: 0.8720\n",
      "Epoch 6/20\n",
      "25000/25000 [==============================] - 30s 1ms/sample - loss: 0.1315 - accuracy: 0.9561 - val_loss: 0.3543 - val_accuracy: 0.8665\n",
      "Epoch 7/20\n",
      "25000/25000 [==============================] - 31s 1ms/sample - loss: 0.1145 - accuracy: 0.9625 - val_loss: 0.3841 - val_accuracy: 0.8616\n",
      "Epoch 8/20\n",
      "25000/25000 [==============================] - 29s 1ms/sample - loss: 0.1003 - accuracy: 0.9694 - val_loss: 0.4215 - val_accuracy: 0.8574\n",
      "Epoch 9/20\n",
      "25000/25000 [==============================] - 30s 1ms/sample - loss: 0.0905 - accuracy: 0.9724 - val_loss: 0.4450 - val_accuracy: 0.8548\n",
      "Epoch 10/20\n",
      "25000/25000 [==============================] - 30s 1ms/sample - loss: 0.0791 - accuracy: 0.9779 - val_loss: 0.4827 - val_accuracy: 0.8504\n",
      "Epoch 11/20\n",
      "25000/25000 [==============================] - 29s 1ms/sample - loss: 0.0697 - accuracy: 0.9807 - val_loss: 0.5256 - val_accuracy: 0.8488\n",
      "Epoch 12/20\n",
      "25000/25000 [==============================] - 30s 1ms/sample - loss: 0.0632 - accuracy: 0.9834 - val_loss: 0.5710 - val_accuracy: 0.8418\n",
      "Epoch 13/20\n",
      "25000/25000 [==============================] - 29s 1ms/sample - loss: 0.0536 - accuracy: 0.9870 - val_loss: 0.6035 - val_accuracy: 0.8449\n",
      "Epoch 14/20\n",
      "25000/25000 [==============================] - 32s 1ms/sample - loss: 0.0475 - accuracy: 0.9888 - val_loss: 0.6401 - val_accuracy: 0.8415\n",
      "Epoch 15/20\n",
      "25000/25000 [==============================] - 31s 1ms/sample - loss: 0.0431 - accuracy: 0.9896 - val_loss: 0.7031 - val_accuracy: 0.8368\n",
      "Epoch 16/20\n",
      "25000/25000 [==============================] - 34s 1ms/sample - loss: 0.0391 - accuracy: 0.9904 - val_loss: 0.7170 - val_accuracy: 0.8377\n",
      "Epoch 17/20\n",
      "25000/25000 [==============================] - 33s 1ms/sample - loss: 0.0323 - accuracy: 0.9926 - val_loss: 0.7726 - val_accuracy: 0.8370\n",
      "Epoch 18/20\n",
      "25000/25000 [==============================] - 40s 2ms/sample - loss: 0.0301 - accuracy: 0.9922 - val_loss: 0.8186 - val_accuracy: 0.8363\n",
      "Epoch 19/20\n",
      "25000/25000 [==============================] - 32s 1ms/sample - loss: 0.0271 - accuracy: 0.9934 - val_loss: 0.8555 - val_accuracy: 0.8342\n",
      "Epoch 20/20\n",
      "25000/25000 [==============================] - 33s 1ms/sample - loss: 0.0263 - accuracy: 0.9927 - val_loss: 0.9127 - val_accuracy: 0.8319\n"
     ]
    }
   ],
   "source": [
    "model.compile(optimizer='adam',loss='binary_crossentropy',metrics=['accuracy'])\n",
    "score = model.fit(X_train,y_train,batch_size = batch_size,\n",
    "                  epochs=epochs,callbacks=[tensorboard_callback],validation_data=(X_test,y_test))"
   ]
  },
  {
   "cell_type": "code",
   "execution_count": 10,
   "metadata": {},
   "outputs": [
    {
     "name": "stdout",
     "output_type": "stream",
     "text": [
      "25000/25000 [==============================] - 4s 146us/sample - loss: 0.9127 - accuracy: 0.8319\n"
     ]
    }
   ],
   "source": [
    "score = model.evaluate(X_test,y_test,batch_size=batch_size,callbacks=[tensorboard_callback])"
   ]
  },
  {
   "cell_type": "code",
   "execution_count": 11,
   "metadata": {},
   "outputs": [
    {
     "ename": "NameError",
     "evalue": "name 'BATCH_SIZE' is not defined",
     "output_type": "error",
     "traceback": [
      "\u001b[0;31m---------------------------------------------------------------------------\u001b[0m",
      "\u001b[0;31mNameError\u001b[0m                                 Traceback (most recent call last)",
      "\u001b[0;32m<ipython-input-11-d0b7a4f0b75a>\u001b[0m in \u001b[0;36m<module>\u001b[0;34m\u001b[0m\n\u001b[0;32m----> 1\u001b[0;31m \u001b[0mscore\u001b[0m \u001b[0;34m=\u001b[0m \u001b[0mmodel\u001b[0m\u001b[0;34m.\u001b[0m\u001b[0mevaluate\u001b[0m\u001b[0;34m(\u001b[0m\u001b[0mX_test\u001b[0m\u001b[0;34m,\u001b[0m \u001b[0my_test\u001b[0m\u001b[0;34m,\u001b[0m \u001b[0mbatch_size\u001b[0m\u001b[0;34m=\u001b[0m\u001b[0mBATCH_SIZE\u001b[0m\u001b[0;34m)\u001b[0m\u001b[0;34m\u001b[0m\u001b[0;34m\u001b[0m\u001b[0m\n\u001b[0m\u001b[1;32m      2\u001b[0m \u001b[0mprint\u001b[0m\u001b[0;34m(\u001b[0m\u001b[0;34m\"\\nTest score:\"\u001b[0m\u001b[0;34m,\u001b[0m \u001b[0mscore\u001b[0m\u001b[0;34m[\u001b[0m\u001b[0;36m0\u001b[0m\u001b[0;34m]\u001b[0m\u001b[0;34m)\u001b[0m\u001b[0;34m\u001b[0m\u001b[0;34m\u001b[0m\u001b[0m\n\u001b[1;32m      3\u001b[0m \u001b[0mprint\u001b[0m\u001b[0;34m(\u001b[0m\u001b[0;34m'Test accuracy:'\u001b[0m\u001b[0;34m,\u001b[0m \u001b[0mscore\u001b[0m\u001b[0;34m[\u001b[0m\u001b[0;36m1\u001b[0m\u001b[0;34m]\u001b[0m\u001b[0;34m)\u001b[0m\u001b[0;34m\u001b[0m\u001b[0;34m\u001b[0m\u001b[0m\n",
      "\u001b[0;31mNameError\u001b[0m: name 'BATCH_SIZE' is not defined"
     ]
    }
   ],
   "source": [
    "score = model.evaluate(X_test, y_test, batch_size=BATCH_SIZE)\n",
    "print(\"\\nTest score:\", score[0])\n",
    "print('Test accuracy:', score[1])"
   ]
  },
  {
   "cell_type": "code",
   "execution_count": null,
   "metadata": {},
   "outputs": [],
   "source": []
  }
 ],
 "metadata": {
  "kernelspec": {
   "display_name": "Python 3",
   "language": "python",
   "name": "python3"
  },
  "language_info": {
   "codemirror_mode": {
    "name": "ipython",
    "version": 3
   },
   "file_extension": ".py",
   "mimetype": "text/x-python",
   "name": "python",
   "nbconvert_exporter": "python",
   "pygments_lexer": "ipython3",
   "version": "3.7.4"
  }
 },
 "nbformat": 4,
 "nbformat_minor": 2
}
