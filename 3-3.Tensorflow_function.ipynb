{
 "cells": [
  {
   "cell_type": "markdown",
   "metadata": {},
   "source": [
    "## Autograph\n",
    "\n",
    "* Using AutoGraph is extremely easy: the only thing that you need to do is to annotate your Python code with the special decorator tf.function as in the following code example.\n",
    "\n",
    "*  there is no need to annotate linear_layer."
   ]
  },
  {
   "cell_type": "code",
   "execution_count": 1,
   "metadata": {},
   "outputs": [],
   "source": [
    "import tensorflow as tf\n",
    "def linear_layer(x):\n",
    "    return 3 * x + 2\n",
    "@tf.function\n",
    "def simple_nn(x):\n",
    "    return tf.nn.relu(linear_layer(x))\n",
    "def simple_function(x):\n",
    "    return 3*x"
   ]
  },
  {
   "cell_type": "code",
   "execution_count": 2,
   "metadata": {},
   "outputs": [
    {
     "data": {
      "text/plain": [
       "<tensorflow.python.eager.def_function.Function at 0x12c79d2d0>"
      ]
     },
     "execution_count": 2,
     "metadata": {},
     "output_type": "execute_result"
    }
   ],
   "source": [
    "simple_nn"
   ]
  },
  {
   "cell_type": "code",
   "execution_count": 3,
   "metadata": {},
   "outputs": [
    {
     "data": {
      "text/plain": [
       "<function __main__.simple_function(x)>"
      ]
     },
     "execution_count": 3,
     "metadata": {},
     "output_type": "execute_result"
    }
   ],
   "source": [
    "simple_function"
   ]
  },
  {
   "cell_type": "code",
   "execution_count": 4,
   "metadata": {},
   "outputs": [
    {
     "name": "stdout",
     "output_type": "stream",
     "text": [
      "def tf__simple_nn(x):\n",
      "  do_return = False\n",
      "  retval_ = ag__.UndefinedReturnValue()\n",
      "  with ag__.FunctionScope('simple_nn', 'fscope', ag__.ConversionOptions(recursive=True, user_requested=True, optional_features=(), internal_convert_user_code=True)) as fscope:\n",
      "    do_return = True\n",
      "    retval_ = fscope.mark_return_value(ag__.converted_call(tf.nn.relu, (ag__.converted_call(linear_layer, (x,), None, fscope),), None, fscope))\n",
      "  do_return,\n",
      "  return ag__.retval(retval_)\n",
      "\n"
     ]
    }
   ],
   "source": [
    "# internal look at the auto-generated code\n",
    "print(tf.autograph.to_code(simple_nn.python_function, experimental_optional_features=None))"
   ]
  },
  {
   "cell_type": "markdown",
   "metadata": {},
   "source": [
    "* Let's see an example of the difference in speed between code annotated with the tf.function() decorator and the same code with no annotation. Here we use a layer LSTMCell() which will be discussed in Chapter 8, Recurrent Neural Networks, but for now consider it as a black box doing some form of learning:"
   ]
  },
  {
   "cell_type": "code",
   "execution_count": 5,
   "metadata": {},
   "outputs": [
    {
     "name": "stdout",
     "output_type": "stream",
     "text": [
      "graph_time: 0.12606661499998495\n",
      "auto_graph_time: 0.08018681600000832\n"
     ]
    }
   ],
   "source": [
    "import tensorflow as tf\n",
    "import timeit\n",
    "cell = tf.keras.layers.LSTMCell(100)\n",
    "@tf.function\n",
    "def fn(input, state):\n",
    "    return cell(input, state)\n",
    "input = tf.zeros([100, 100])\n",
    "state = [tf.zeros([100, 100])] * 2\n",
    "# warmup\n",
    "cell(input, state)\n",
    "fn(input, state)\n",
    "graph_time = timeit.timeit(lambda: cell(input, state), number=100)\n",
    "auto_graph_time = timeit.timeit(lambda: fn(input, state), number=100)\n",
    "print('graph_time:', graph_time)\n",
    "print('auto_graph_time:', auto_graph_time)"
   ]
  },
  {
   "cell_type": "markdown",
   "metadata": {},
   "source": [
    "# Define Model in 3 ways"
   ]
  },
  {
   "cell_type": "markdown",
   "metadata": {},
   "source": [
    "### 1. Sequential API"
   ]
  },
  {
   "cell_type": "code",
   "execution_count": 6,
   "metadata": {},
   "outputs": [],
   "source": [
    "BATCH_SIZE = 128\n",
    "VERBOSE = 1\n",
    "NB_CLASSES = 10   # number of outputs = number of digits\n",
    "N_HIDDEN = 128\n",
    "RESHAPED = 784"
   ]
  },
  {
   "cell_type": "code",
   "execution_count": 7,
   "metadata": {},
   "outputs": [],
   "source": [
    "model = tf.keras.models.Sequential()\n",
    "model.add(tf.keras.layers.Dense(10,\n",
    "          input_shape=(RESHAPED,),\n",
    "          name='dense_layer', activation='relu'))\n",
    "model.add(tf.keras.layers.Dense(N_HIDDEN,\n",
    "          name='dense_layer_2', activation='relu'))\n",
    "model.add(tf.keras.layers.Dense(NB_CLASSES,\n",
    "          name='dense_layer_3', activation='softmax'))"
   ]
  },
  {
   "cell_type": "code",
   "execution_count": 8,
   "metadata": {},
   "outputs": [
    {
     "data": {
      "image/png": "[encoded data removed]",
      "text/plain": [
       "<IPython.core.display.Image object>"
      ]
     },
     "execution_count": 8,
     "metadata": {},
     "output_type": "execute_result"
    }
   ],
   "source": [
    "tf.keras.utils.plot_model(model, to_file=\"model.png\")"
   ]
  },
  {
   "cell_type": "markdown",
   "metadata": {},
   "source": [
    "## Functional API\n",
    "\n",
    "* The Functional API is useful when you want to build a model with more complex (non-linear) topologies, including multiple inputs, multiple outputs, residual connections with non-sequential flows, and shared and reusable layers. Each layer is callable (with a tensor in input), and each layer returns a tensor as an output. "
   ]
  },
  {
   "cell_type": "code",
   "execution_count": 13,
   "metadata": {},
   "outputs": [],
   "source": [
    "import tensorflow as tf\n",
    "def build_model():\n",
    "    # variable-length sequence of integers\n",
    "    text_input_a = tf.keras.Input(shape=(None,), dtype='int32')\n",
    "    # variable-length sequence of integers\n",
    "    text_input_b = tf.keras.Input(shape=(None,), dtype='int32')\n",
    "    # Embedding for 1000 unique words mapped to 128-dimensional vectors\n",
    "    shared_embedding = tf.keras.layers.Embedding(1000, 128)\n",
    "    # We reuse the same layer to encode both inputs\n",
    "    encoded_input_a = shared_embedding(text_input_a)\n",
    "    encoded_input_b = shared_embedding(text_input_b)\n",
    "    # two logistic predictions at the end\n",
    "    prediction_a = tf.keras.layers.Dense(1, activation='sigmoid',\\\n",
    "name='prediction_a')(encoded_input_a)\n",
    "    prediction_b = tf.keras.layers.Dense(1, activation='sigmoid',\\\n",
    " name='prediction_b')(encoded_input_b)\n",
    "    # this model has 2 inputs, and 2 outputs\n",
    "    # in the middle we have a shared model\n",
    "    model = tf.keras.Model(inputs=[text_input_a, text_input_b], \n",
    "    outputs=[prediction_a, prediction_b])\n",
    "    tf.keras.utils.plot_model(model, to_file=\"shared_model.png\")\n",
    "    return model\n",
    "model = build_model()\n"
   ]
  },
  {
   "cell_type": "code",
   "execution_count": 14,
   "metadata": {},
   "outputs": [
    {
     "data": {
      "image/png": "[encoded data removed]",
      "text/plain": [
       "<IPython.core.display.Image object>"
      ]
     },
     "execution_count": 14,
     "metadata": {},
     "output_type": "execute_result"
    }
   ],
   "source": [
    "tf.keras.utils.plot_model(model, to_file=\"model.png\")"
   ]
  },
  {
   "cell_type": "markdown",
   "metadata": {},
   "source": [
    "## 3. Model subclassing"
   ]
  },
  {
   "cell_type": "code",
   "execution_count": 16,
   "metadata": {},
   "outputs": [],
   "source": [
    "class MyLayer(tf.keras.layers.Layer):\n",
    "    def __init__(self, output_dim, **kwargs):\n",
    "        self.output_dim = output_dim\n",
    "        super(MyLayer, self).__init__(**kwargs)\n",
    "    def build(self, input_shape):\n",
    "        # Create a trainable weight variable for this layer.\n",
    "        self.kernel = self.add_weight(name='kernel',\n",
    "                                  shape=(input_shape[1], self.output_dim),\n",
    "                                  initializer='uniform',\n",
    "                                  trainable=True)\n",
    "    def call(self, inputs):\n",
    "        # Do the multiplication and return \n",
    "        return tf.matmul(inputs, self.kernel)\n"
   ]
  },
  {
   "cell_type": "code",
   "execution_count": 18,
   "metadata": {},
   "outputs": [],
   "source": [
    "model = tf.keras.Sequential([\n",
    "    MyLayer(20),\n",
    "    tf.keras.layers.Activation('softmax')])"
   ]
  },
  {
   "cell_type": "code",
   "execution_count": 19,
   "metadata": {},
   "outputs": [
    {
     "data": {
      "image/png": "[encoded data removed]",
      "text/plain": [
       "<IPython.core.display.Image object>"
      ]
     },
     "execution_count": 19,
     "metadata": {},
     "output_type": "execute_result"
    }
   ],
   "source": [
    "tf.keras.utils.plot_model(model, to_file=\"model.png\")"
   ]
  },
  {
   "cell_type": "markdown",
   "metadata": {},
   "source": [
    "## Callbacks\n",
    "\n",
    "Callbacks are objects passed to a model to extend or modify behaviors during training. There are a few useful callbacks that are commonly used in tf.keras:\n",
    "\n",
    "\n",
    "* tf.keras.callbacks.ModelCheckpoint: This feature is used to save checkpoints of your model at regular intervals and recover in case of problems.\n",
    "\n",
    "\n",
    "* tf.keras.callbacks.LearningRateScheduler: This feature is used to dynamically change the learning rate during optimization.\n",
    "\n",
    "\n",
    "* tf.keras.callbacks.EarlyStopping: This feature is used to interrupt training when validation performance has stopped improving after a while.\n",
    "\n",
    "\n",
    "* tf.keras.callbacks.TensorBoard: This feature is used to monitor the model's behavior using TensorBoard."
   ]
  },
  {
   "cell_type": "markdown",
   "metadata": {},
   "source": [
    "## Model Save and load\n",
    "\n",
    "* Save weights to a Tensorflow Checkpoint file\n",
    "\n",
    "    model.save_weights('./weights/my_model')\n",
    "    \n",
    "    \n",
    "* Save weights to a HDF5 file\n",
    "\n",
    "    model.save_weights('my_model.h5', save_format='h5')\n",
    "\n",
    "\n",
    "* Weights are easily loaded with Restore the model's state\n",
    "\n",
    "    model.load_weights(file_path)    \n",
    "    \n",
    "    \n",
    "In addition to weights, a model can be serialized in JSON with:\n",
    "\n",
    "```Python\n",
    "json_string = model.to_json()  # save \n",
    "model = tf.keras.models.model_from_json(json_string) # restore    \n",
    "```\n",
    "* If you want to save a model together with its weights and the optimization parameters, then you simply use:\n",
    "\n",
    "```Python\n",
    "model.save('my_model.h5') # save\n",
    "model = tf.keras.models.load_model('my_model.h5') #restore\n",
    "```"
   ]
  },
  {
   "cell_type": "code",
   "execution_count": null,
   "metadata": {},
   "outputs": [],
   "source": []
  }
 ],
 "metadata": {
  "kernelspec": {
   "display_name": "Python 3",
   "language": "python",
   "name": "python3"
  },
  "language_info": {
   "codemirror_mode": {
    "name": "ipython",
    "version": 3
   },
   "file_extension": ".py",
   "mimetype": "text/x-python",
   "name": "python",
   "nbconvert_exporter": "python",
   "pygments_lexer": "ipython3",
   "version": "3.7.4"
  }
 },
 "nbformat": 4,
 "nbformat_minor": 2
}
