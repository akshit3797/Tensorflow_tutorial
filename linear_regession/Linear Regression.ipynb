{
 "cells": [
  {
   "cell_type": "markdown",
   "metadata": {},
   "source": [
    "# Tflearn"
   ]
  },
  {
   "cell_type": "code",
   "execution_count": 1,
   "metadata": {
    "collapsed": true
   },
   "outputs": [],
   "source": [
    "import pandas as pd\n",
    "import tflearn\n",
    "import numpy as np\n",
    "import matplotlib.pyplot as plt "
   ]
  },
  {
   "cell_type": "code",
   "execution_count": 2,
   "metadata": {},
   "outputs": [
    {
     "name": "stdout",
     "output_type": "stream",
     "text": [
      "*** No CODEPAGE record, no encoding_override: will use 'ascii'\n"
     ]
    }
   ],
   "source": [
    "# Fire and Theft in Chicago\n",
    "\n",
    "# In the following data pairs\n",
    "\n",
    "# X = fires per 1000 housing units\n",
    "# Y = thefts per 1000 population within the same Zip code in the Chicago metro area.\n",
    "\n",
    "df = pd.read_excel('slr05.xls')"
   ]
  },
  {
   "cell_type": "code",
   "execution_count": 3,
   "metadata": {},
   "outputs": [
    {
     "data": {
      "text/html": [
       "<div>\n",
       "<style>\n",
       "    .dataframe thead tr:only-child th {\n",
       "        text-align: right;\n",
       "    }\n",
       "\n",
       "    .dataframe thead th {\n",
       "        text-align: left;\n",
       "    }\n",
       "\n",
       "    .dataframe tbody tr th {\n",
       "        vertical-align: top;\n",
       "    }\n",
       "</style>\n",
       "<table border=\"1\" class=\"dataframe\">\n",
       "  <thead>\n",
       "    <tr style=\"text-align: right;\">\n",
       "      <th></th>\n",
       "      <th>X</th>\n",
       "      <th>Y</th>\n",
       "    </tr>\n",
       "  </thead>\n",
       "  <tbody>\n",
       "    <tr>\n",
       "      <th>0</th>\n",
       "      <td>6.2</td>\n",
       "      <td>29</td>\n",
       "    </tr>\n",
       "    <tr>\n",
       "      <th>1</th>\n",
       "      <td>9.5</td>\n",
       "      <td>44</td>\n",
       "    </tr>\n",
       "    <tr>\n",
       "      <th>2</th>\n",
       "      <td>10.5</td>\n",
       "      <td>36</td>\n",
       "    </tr>\n",
       "    <tr>\n",
       "      <th>3</th>\n",
       "      <td>7.7</td>\n",
       "      <td>37</td>\n",
       "    </tr>\n",
       "    <tr>\n",
       "      <th>4</th>\n",
       "      <td>8.6</td>\n",
       "      <td>53</td>\n",
       "    </tr>\n",
       "  </tbody>\n",
       "</table>\n",
       "</div>"
      ],
      "text/plain": [
       "      X   Y\n",
       "0   6.2  29\n",
       "1   9.5  44\n",
       "2  10.5  36\n",
       "3   7.7  37\n",
       "4   8.6  53"
      ]
     },
     "execution_count": 3,
     "metadata": {},
     "output_type": "execute_result"
    }
   ],
   "source": [
    "df.head()"
   ]
  },
  {
   "cell_type": "code",
   "execution_count": 4,
   "metadata": {},
   "outputs": [
    {
     "data": {
      "image/png": "[encoded data removed]",
      "text/plain": [
       "<matplotlib.figure.Figure at 0x7fd6301641d0>"
      ]
     },
     "metadata": {},
     "output_type": "display_data"
    }
   ],
   "source": [
    "plt.scatter(df['X'],df['Y'])\n",
    "plt.show()"
   ]
  },
  {
   "cell_type": "code",
   "execution_count": 5,
   "metadata": {
    "collapsed": true
   },
   "outputs": [],
   "source": [
    "x = df['X']\n",
    "X = x.tolist()\n",
    "\n",
    "y = df['Y']\n",
    "Y = x.tolist()"
   ]
  },
  {
   "cell_type": "code",
   "execution_count": 6,
   "metadata": {},
   "outputs": [
    {
     "name": "stdout",
     "output_type": "stream",
     "text": [
      "Training Step: 500  | total loss: \u001b[1m\u001b[32m0.18964\u001b[0m\u001b[0m | time: 0.004s\n",
      "| SGD | epoch: 500 | loss: 0.18964 - R2: 1.0006 -- iter: 42/42\n",
      "\n",
      "Regression result:\n",
      "Y = [ 0.96381027]*X + [ 0.71846169]\n"
     ]
    }
   ],
   "source": [
    "# Linear Regression graph\n",
    "input_ = tflearn.input_data(shape=[None])\n",
    "linear = tflearn.single_unit(input_)\n",
    "regression = tflearn.regression(linear, optimizer='sgd', loss='mean_square',\n",
    "                                metric='R2', learning_rate=0.001)\n",
    "m = tflearn.DNN(regression)\n",
    "m.fit(X, Y, n_epoch=500, show_metric=True, snapshot_epoch=False)\n",
    "\n",
    "print(\"\\nRegression result:\")\n",
    "print(\"Y = \" + str(m.get_weights(linear.W)) +\n",
    "      \"*X + \" + str(m.get_weights(linear.b)))"
   ]
  },
  {
   "cell_type": "code",
   "execution_count": 7,
   "metadata": {},
   "outputs": [
    {
     "data": {
      "image/png": "[encoded data removed]",
      "text/plain": [
       "<matplotlib.figure.Figure at 0x7fd62da3f110>"
      ]
     },
     "metadata": {},
     "output_type": "display_data"
    }
   ],
   "source": [
    "x_line = np.arange(0,40).reshape(-1,1)\n",
    "p = []\n",
    "for i,x in enumerate(x_line):\n",
    "    p.append(m.predict(x))\n",
    "\n",
    "plt.scatter(df['X'],df['Y'],label='Given')\n",
    "plt.plot(x_line,p, color='green',label='Predicted')\n",
    "plt.legend()\n",
    "\n",
    "plt.show()"
   ]
  },
  {
   "cell_type": "markdown",
   "metadata": {},
   "source": [
    "# Sklearn"
   ]
  },
  {
   "cell_type": "code",
   "execution_count": 8,
   "metadata": {},
   "outputs": [],
   "source": [
    "from sklearn import linear_model"
   ]
  },
  {
   "cell_type": "code",
   "execution_count": 9,
   "metadata": {
    "collapsed": true
   },
   "outputs": [],
   "source": [
    "regr = linear_model.LinearRegression()\n",
    "x_ = np.array(X).reshape(-1,1)\n",
    "y_ = np.array(Y).reshape(-1,1)\n",
    "regr.fit(x_,y_)\n",
    "x_line = np.arange(0,40).reshape(-1,1)\n",
    "m = regr.predict(x_line)"
   ]
  },
  {
   "cell_type": "code",
   "execution_count": 10,
   "metadata": {},
   "outputs": [
    {
     "data": {
      "image/png": "[encoded data removed]",
      "text/plain": [
       "<matplotlib.figure.Figure at 0x7fd6240bb250>"
      ]
     },
     "metadata": {},
     "output_type": "display_data"
    }
   ],
   "source": [
    "plt.scatter(df['X'],df['Y'],label='Given')\n",
    "plt.plot(x_line,m, color='green',label='Predicted')\n",
    "plt.legend()\n",
    "plt.show()"
   ]
  },
  {
   "cell_type": "markdown",
   "metadata": {},
   "source": [
    "# Tensorflow"
   ]
  },
  {
   "cell_type": "code",
   "execution_count": 11,
   "metadata": {},
   "outputs": [
    {
     "name": "stdout",
     "output_type": "stream",
     "text": [
      "WARNING:tensorflow:From /home/bat/anaconda2/envs/bat/lib/python2.7/site-packages/tensorflow/python/util/tf_should_use.py:170: initialize_all_variables (from tensorflow.python.ops.variables) is deprecated and will be removed after 2017-03-02.\n",
      "Instructions for updating:\n",
      "Use `tf.global_variables_initializer` instead.\n",
      "('Epoch:', '0050', 'cost=', '0.490202099', 'W=', 1.0871797, 'b=', -1.6422478)\n",
      "('Epoch:', '0100', 'cost=', '0.340309769', 'W=', 1.0726382, 'b=', -1.368322)\n",
      "('Epoch:', '0150', 'cost=', '0.236251786', 'W=', 1.0605224, 'b=', -1.1400883)\n",
      "('Epoch:', '0200', 'cost=', '0.164011434', 'W=', 1.0504273, 'b=', -0.9499228)\n",
      "('Epoch:', '0250', 'cost=', '0.113860734', 'W=', 1.042016, 'b=', -0.79147673)\n",
      "('Epoch:', '0300', 'cost=', '0.079044916', 'W=', 1.0350077, 'b=', -0.65945953)\n",
      "('Epoch:', '0350', 'cost=', '0.054874938', 'W=', 1.0291686, 'b=', -0.54946214)\n",
      "('Epoch:', '0400', 'cost=', '0.038095396', 'W=', 1.0243032, 'b=', -0.45781261)\n",
      "('Epoch:', '0450', 'cost=', '0.026446825', 'W=', 1.0202495, 'b=', -0.3814503)\n",
      "('Epoch:', '0500', 'cost=', '0.018360075', 'W=', 1.0168718, 'b=', -0.31782547)\n",
      "('Epoch:', '0550', 'cost=', '0.012746127', 'W=', 1.0140579, 'b=', -0.26481301)\n",
      "('Epoch:', '0600', 'cost=', '0.008848610', 'W=', 1.0117129, 'b=', -0.22064225)\n",
      "('Epoch:', '0650', 'cost=', '0.006142959', 'W=', 1.0097593, 'b=', -0.1838394)\n",
      "('Epoch:', '0700', 'cost=', '0.004264559', 'W=', 1.0081314, 'b=', -0.15317513)\n",
      "('Epoch:', '0750', 'cost=', '0.002960584', 'W=', 1.006775, 'b=', -0.12762608)\n",
      "('Epoch:', '0800', 'cost=', '0.002055316', 'W=', 1.0056452, 'b=', -0.10633823)\n",
      "('Epoch:', '0850', 'cost=', '0.001426852', 'W=', 1.0047035, 'b=', -0.088601157)\n",
      "('Epoch:', '0900', 'cost=', '0.000990548', 'W=', 1.0039188, 'b=', -0.073822595)\n",
      "('Epoch:', '0950', 'cost=', '0.000687676', 'W=', 1.0032654, 'b=', -0.061509121)\n",
      "('Epoch:', '1000', 'cost=', '0.000477393', 'W=', 1.0027206, 'b=', -0.05124943)\n",
      "Optimization Finished!\n",
      "('Training cost=', 0.0004773933, 'W=', 1.0027206, 'b=', -0.05124943, '\\n')\n"
     ]
    },
    {
     "data": {
      "image/png": "[encoded data removed]",
      "text/plain": [
       "<matplotlib.figure.Figure at 0x7fd61c0ddf50>"
      ]
     },
     "metadata": {},
     "output_type": "display_data"
    }
   ],
   "source": [
    "%matplotlib inline\n",
    "import tensorflow as tf\n",
    "import numpy\n",
    "import matplotlib.pyplot as plt\n",
    "rng = numpy.random\n",
    "# Parameters\n",
    "learning_rate = 0.01\n",
    "training_epochs = 1000\n",
    "display_step = 50\n",
    "# Training Data\n",
    "#X = [3.3,4.4,5.5,6.71,6.93,4.168,9.779,6.182,7.59,2.167,7.042,10.791,5.313,7.997,5.654,9.27,3.1]\n",
    "#Y = [1.7,2.76,2.09,3.19,1.694,1.573,3.366,2.596,2.53,1.221,2.827,3.465,1.65,2.904,2.42,2.94,1.3]\n",
    "train_X = numpy.asarray(X)\n",
    "train_Y = numpy.asarray(Y)\n",
    "n_samples = train_X.shape[0]\n",
    "\n",
    "# tf Graph Input\n",
    "X = tf.placeholder(\"float\")\n",
    "Y = tf.placeholder(\"float\")\n",
    "\n",
    "# Set model weights\n",
    "W = tf.Variable(rng.randn(), name=\"weight\")\n",
    "b = tf.Variable(rng.randn(), name=\"bias\")\n",
    "\n",
    "# Construct a linear model\n",
    "pred = tf.add(tf.multiply(X, W), b)\n",
    "\n",
    "# Mean squared error\n",
    "cost = tf.reduce_sum(tf.pow(pred-Y, 2))/(2*n_samples)\n",
    "# Gradient descent\n",
    "optimizer = tf.train.GradientDescentOptimizer(learning_rate).minimize(cost)\n",
    "\n",
    "# Initializing the variables\n",
    "init = tf.initialize_all_variables()\n",
    "# Launch the graph\n",
    "with tf.Session() as sess:\n",
    "    sess.run(init)\n",
    "\n",
    "    # Fit all training data\n",
    "    for epoch in range(training_epochs):\n",
    "        for (x, y) in zip(train_X, train_Y):\n",
    "            sess.run(optimizer, feed_dict={X: x, Y: y})\n",
    "\n",
    "        #Display logs per epoch step\n",
    "        if (epoch+1) % display_step == 0:\n",
    "            c = sess.run(cost, feed_dict={X: train_X, Y:train_Y})\n",
    "            print( \"Epoch:\", '%04d' % (epoch+1), \"cost=\", \"{:.9f}\".format(c),\"W=\", sess.run(W), \"b=\", sess.run(b))\n",
    "\n",
    "    print(\"Optimization Finished!\")\n",
    "    training_cost = sess.run(cost, feed_dict={X: train_X, Y: train_Y})\n",
    "    print(\"Training cost=\", training_cost, \"W=\", sess.run(W), \"b=\", sess.run(b), '\\n')\n",
    "\n",
    "    #Graphic display\n",
    "    plt.plot(train_X, train_Y, 'ro', label='Original data')\n",
    "    plt.plot(train_X, sess.run(W) * train_X + sess.run(b), label='Fitted line')\n",
    "    plt.legend()\n",
    "    plt.show()"
   ]
  },
  {
   "cell_type": "code",
   "execution_count": 15,
   "metadata": {},
   "outputs": [
    {
     "data": {
      "text/plain": [
       "array([  6.2,   9.5,  10.5,   7.7,   8.6,  34.1,  11. ,   6.9,   7.3,\n",
       "        15.1,  29.1,   2.2,   5.7,   2. ,   2.5,   4. ,   5.4,   2.2,\n",
       "         7.2,  15.1,  16.5,  18.4,  36.2,  39.7,  18.5,  23.3,  12.2,\n",
       "         5.6,  21.8,  21.6,   9. ,   3.6,   5. ,  28.6,  17.4,  11.3,\n",
       "         3.4,  11.9,  10.5,  10.7,  10.8,   4.8])"
      ]
     },
     "execution_count": 15,
     "metadata": {},
     "output_type": "execute_result"
    }
   ],
   "source": [
    "train_Y"
   ]
  },
  {
   "cell_type": "code",
   "execution_count": null,
   "metadata": {
    "collapsed": true
   },
   "outputs": [],
   "source": []
  }
 ],
 "metadata": {
  "kernelspec": {
   "display_name": "bat",
   "language": "python",
   "name": "bat"
  },
  "language_info": {
   "codemirror_mode": {
    "name": "ipython",
    "version": 2
   },
   "file_extension": ".py",
   "mimetype": "text/x-python",
   "name": "python",
   "nbconvert_exporter": "python",
   "pygments_lexer": "ipython2",
   "version": "2.7.13"
  }
 },
 "nbformat": 4,
 "nbformat_minor": 2
}
